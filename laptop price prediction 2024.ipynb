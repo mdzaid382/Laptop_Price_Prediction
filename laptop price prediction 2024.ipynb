{
 "cells": [
  {
   "cell_type": "code",
   "execution_count": 1,
   "id": "90c41415-8639-44a1-8214-4927d36d7f6e",
   "metadata": {},
   "outputs": [],
   "source": [
    "import numpy as np\n",
    "import pandas as pd"
   ]
  },
  {
   "cell_type": "code",
   "execution_count": 2,
   "id": "62cba39a-0633-4d04-b8d0-e1c26b478e0a",
   "metadata": {},
   "outputs": [],
   "source": [
    "df = pd.read_csv('laptop_cleaned2.csv')"
   ]
  },
  {
   "cell_type": "code",
   "execution_count": 3,
   "id": "48f30cd2-7c8a-4856-9d31-e5500ce5b990",
   "metadata": {},
   "outputs": [
    {
     "data": {
      "text/html": [
       "<div>\n",
       "<style scoped>\n",
       "    .dataframe tbody tr th:only-of-type {\n",
       "        vertical-align: middle;\n",
       "    }\n",
       "\n",
       "    .dataframe tbody tr th {\n",
       "        vertical-align: top;\n",
       "    }\n",
       "\n",
       "    .dataframe thead th {\n",
       "        text-align: right;\n",
       "    }\n",
       "</style>\n",
       "<table border=\"1\" class=\"dataframe\">\n",
       "  <thead>\n",
       "    <tr style=\"text-align: right;\">\n",
       "      <th></th>\n",
       "      <th>Unnamed: 0</th>\n",
       "      <th>Name</th>\n",
       "      <th>Brand</th>\n",
       "      <th>Price</th>\n",
       "      <th>Rating</th>\n",
       "      <th>Processor_brand</th>\n",
       "      <th>Processor_name</th>\n",
       "      <th>Processor_variant</th>\n",
       "      <th>Processor_gen</th>\n",
       "      <th>Core_per_processor</th>\n",
       "      <th>...</th>\n",
       "      <th>Graphics_name</th>\n",
       "      <th>Graphics_brand</th>\n",
       "      <th>Graphics_GB</th>\n",
       "      <th>Graphics_integreted</th>\n",
       "      <th>Display_size_inches</th>\n",
       "      <th>Horizontal_pixel</th>\n",
       "      <th>Vertical_pixel</th>\n",
       "      <th>ppi</th>\n",
       "      <th>Touch_screen</th>\n",
       "      <th>Operating_system</th>\n",
       "    </tr>\n",
       "  </thead>\n",
       "  <tbody>\n",
       "    <tr>\n",
       "      <th>51</th>\n",
       "      <td>51</td>\n",
       "      <td>Asus Vivobook 16X 2023 K3605ZU-MB741WS Laptop ...</td>\n",
       "      <td>Asus</td>\n",
       "      <td>86990</td>\n",
       "      <td>4.00</td>\n",
       "      <td>Intel</td>\n",
       "      <td>Intel Core i7</td>\n",
       "      <td>12650H</td>\n",
       "      <td>12.0</td>\n",
       "      <td>10.0</td>\n",
       "      <td>...</td>\n",
       "      <td>NVIDIA Geforce RTX 4050</td>\n",
       "      <td>NVIDIA</td>\n",
       "      <td>6.0</td>\n",
       "      <td>False</td>\n",
       "      <td>16.0</td>\n",
       "      <td>1920</td>\n",
       "      <td>1200</td>\n",
       "      <td>141.51</td>\n",
       "      <td>False</td>\n",
       "      <td>Windows 11 OS</td>\n",
       "    </tr>\n",
       "    <tr>\n",
       "      <th>409</th>\n",
       "      <td>409</td>\n",
       "      <td>HP Victus 15-fb1018AX Gaming Laptop (AMD Ryzen...</td>\n",
       "      <td>HP</td>\n",
       "      <td>54990</td>\n",
       "      <td>4.75</td>\n",
       "      <td>AMD</td>\n",
       "      <td>AMD Ryzen 5</td>\n",
       "      <td>7535HS</td>\n",
       "      <td>7.0</td>\n",
       "      <td>6.0</td>\n",
       "      <td>...</td>\n",
       "      <td>NVIDIA GeForce RTX 2050</td>\n",
       "      <td>NVIDIA</td>\n",
       "      <td>4.0</td>\n",
       "      <td>False</td>\n",
       "      <td>15.6</td>\n",
       "      <td>1920</td>\n",
       "      <td>1080</td>\n",
       "      <td>141.21</td>\n",
       "      <td>False</td>\n",
       "      <td>Windows 11 OS</td>\n",
       "    </tr>\n",
       "    <tr>\n",
       "      <th>478</th>\n",
       "      <td>478</td>\n",
       "      <td>Asus ROG Strix G16 2023 G614JI-N4151WS Gaming ...</td>\n",
       "      <td>Asus</td>\n",
       "      <td>198999</td>\n",
       "      <td>4.30</td>\n",
       "      <td>Intel</td>\n",
       "      <td>Intel Core i9</td>\n",
       "      <td>13980HX</td>\n",
       "      <td>13.0</td>\n",
       "      <td>24.0</td>\n",
       "      <td>...</td>\n",
       "      <td>NVIDIA GeForce RTX 4070</td>\n",
       "      <td>NVIDIA</td>\n",
       "      <td>8.0</td>\n",
       "      <td>False</td>\n",
       "      <td>16.0</td>\n",
       "      <td>2560</td>\n",
       "      <td>1600</td>\n",
       "      <td>188.68</td>\n",
       "      <td>False</td>\n",
       "      <td>Windows 11 OS</td>\n",
       "    </tr>\n",
       "    <tr>\n",
       "      <th>125</th>\n",
       "      <td>125</td>\n",
       "      <td>HP Victus 16-D0314TX Gaming Laptop (11th Gen C...</td>\n",
       "      <td>HP</td>\n",
       "      <td>60200</td>\n",
       "      <td>4.75</td>\n",
       "      <td>Intel</td>\n",
       "      <td>Intel Core i5</td>\n",
       "      <td>11400H</td>\n",
       "      <td>11.0</td>\n",
       "      <td>6.0</td>\n",
       "      <td>...</td>\n",
       "      <td>NVIDIA GeForce GTX 1650</td>\n",
       "      <td>NVIDIA</td>\n",
       "      <td>4.0</td>\n",
       "      <td>False</td>\n",
       "      <td>16.1</td>\n",
       "      <td>1920</td>\n",
       "      <td>1080</td>\n",
       "      <td>136.83</td>\n",
       "      <td>False</td>\n",
       "      <td>Windows 11 OS</td>\n",
       "    </tr>\n",
       "    <tr>\n",
       "      <th>872</th>\n",
       "      <td>872</td>\n",
       "      <td>Acer Nitro 5 AN515-58 NH.QFHSI.007 Gaming Lapt...</td>\n",
       "      <td>Acer</td>\n",
       "      <td>86990</td>\n",
       "      <td>4.35</td>\n",
       "      <td>Intel</td>\n",
       "      <td>Intel Core i7</td>\n",
       "      <td>12700H</td>\n",
       "      <td>12.0</td>\n",
       "      <td>14.0</td>\n",
       "      <td>...</td>\n",
       "      <td>NVIDIA GeForce RTX 3050</td>\n",
       "      <td>NVIDIA</td>\n",
       "      <td>4.0</td>\n",
       "      <td>False</td>\n",
       "      <td>15.6</td>\n",
       "      <td>1920</td>\n",
       "      <td>1080</td>\n",
       "      <td>141.21</td>\n",
       "      <td>False</td>\n",
       "      <td>Windows 11 OS</td>\n",
       "    </tr>\n",
       "    <tr>\n",
       "      <th>630</th>\n",
       "      <td>630</td>\n",
       "      <td>Acer Aspire Lite AL15-52 15 Laptop (12th Gen C...</td>\n",
       "      <td>Acer</td>\n",
       "      <td>49199</td>\n",
       "      <td>4.35</td>\n",
       "      <td>Intel</td>\n",
       "      <td>Intel Core i5</td>\n",
       "      <td>1235U</td>\n",
       "      <td>12.0</td>\n",
       "      <td>10.0</td>\n",
       "      <td>...</td>\n",
       "      <td>Intel Iris Xe Graphics</td>\n",
       "      <td>Intel</td>\n",
       "      <td>NaN</td>\n",
       "      <td>False</td>\n",
       "      <td>15.6</td>\n",
       "      <td>1920</td>\n",
       "      <td>1080</td>\n",
       "      <td>141.21</td>\n",
       "      <td>False</td>\n",
       "      <td>Windows 11 OS</td>\n",
       "    </tr>\n",
       "    <tr>\n",
       "      <th>864</th>\n",
       "      <td>864</td>\n",
       "      <td>Lenovo LOQ 2023 Gaming Laptop  (13th Gen Core ...</td>\n",
       "      <td>Lenovo</td>\n",
       "      <td>89999</td>\n",
       "      <td>4.00</td>\n",
       "      <td>Intel</td>\n",
       "      <td>Intel Core i5</td>\n",
       "      <td>13420H</td>\n",
       "      <td>13.0</td>\n",
       "      <td>8.0</td>\n",
       "      <td>...</td>\n",
       "      <td>NVIDIA GeForce RTX 4060</td>\n",
       "      <td>NVIDIA</td>\n",
       "      <td>8.0</td>\n",
       "      <td>False</td>\n",
       "      <td>15.6</td>\n",
       "      <td>1920</td>\n",
       "      <td>1080</td>\n",
       "      <td>141.21</td>\n",
       "      <td>False</td>\n",
       "      <td>Windows 11 OS</td>\n",
       "    </tr>\n",
       "    <tr>\n",
       "      <th>951</th>\n",
       "      <td>951</td>\n",
       "      <td>Dell Vostro 5620 Laptop (12th Gen Core i3/ 8GB...</td>\n",
       "      <td>Dell</td>\n",
       "      <td>46899</td>\n",
       "      <td>4.50</td>\n",
       "      <td>Intel</td>\n",
       "      <td>Intel Core i3</td>\n",
       "      <td>1215U</td>\n",
       "      <td>12.0</td>\n",
       "      <td>6.0</td>\n",
       "      <td>...</td>\n",
       "      <td>Intel UHD</td>\n",
       "      <td>Intel</td>\n",
       "      <td>NaN</td>\n",
       "      <td>False</td>\n",
       "      <td>16.0</td>\n",
       "      <td>1920</td>\n",
       "      <td>1080</td>\n",
       "      <td>137.68</td>\n",
       "      <td>False</td>\n",
       "      <td>Windows 11 OS</td>\n",
       "    </tr>\n",
       "    <tr>\n",
       "      <th>848</th>\n",
       "      <td>848</td>\n",
       "      <td>Asus Vivobook Pro 15 M6500QFB-LK541WS Laptop (...</td>\n",
       "      <td>Asus</td>\n",
       "      <td>69990</td>\n",
       "      <td>4.40</td>\n",
       "      <td>AMD</td>\n",
       "      <td>AMD Ryzen 5</td>\n",
       "      <td>5600H</td>\n",
       "      <td>5.0</td>\n",
       "      <td>6.0</td>\n",
       "      <td>...</td>\n",
       "      <td>NVIDIA GeForce RTX 2050</td>\n",
       "      <td>NVIDIA</td>\n",
       "      <td>4.0</td>\n",
       "      <td>False</td>\n",
       "      <td>15.6</td>\n",
       "      <td>1920</td>\n",
       "      <td>1080</td>\n",
       "      <td>141.21</td>\n",
       "      <td>False</td>\n",
       "      <td>Windows 11 OS</td>\n",
       "    </tr>\n",
       "    <tr>\n",
       "      <th>472</th>\n",
       "      <td>472</td>\n",
       "      <td>Asus Vivobook 16X 2023 K3605ZF-MB541WS Laptop ...</td>\n",
       "      <td>Asus</td>\n",
       "      <td>66990</td>\n",
       "      <td>4.30</td>\n",
       "      <td>Intel</td>\n",
       "      <td>Intel Core i5</td>\n",
       "      <td>12450H</td>\n",
       "      <td>12.0</td>\n",
       "      <td>8.0</td>\n",
       "      <td>...</td>\n",
       "      <td>NVIDIA GeForce RTX 2050</td>\n",
       "      <td>NVIDIA</td>\n",
       "      <td>4.0</td>\n",
       "      <td>False</td>\n",
       "      <td>16.0</td>\n",
       "      <td>1920</td>\n",
       "      <td>1200</td>\n",
       "      <td>141.51</td>\n",
       "      <td>False</td>\n",
       "      <td>Windows 11 OS</td>\n",
       "    </tr>\n",
       "  </tbody>\n",
       "</table>\n",
       "<p>10 rows × 29 columns</p>\n",
       "</div>"
      ],
      "text/plain": [
       "     Unnamed: 0                                               Name   Brand  \\\n",
       "51           51  Asus Vivobook 16X 2023 K3605ZU-MB741WS Laptop ...    Asus   \n",
       "409         409  HP Victus 15-fb1018AX Gaming Laptop (AMD Ryzen...      HP   \n",
       "478         478  Asus ROG Strix G16 2023 G614JI-N4151WS Gaming ...    Asus   \n",
       "125         125  HP Victus 16-D0314TX Gaming Laptop (11th Gen C...      HP   \n",
       "872         872  Acer Nitro 5 AN515-58 NH.QFHSI.007 Gaming Lapt...    Acer   \n",
       "630         630  Acer Aspire Lite AL15-52 15 Laptop (12th Gen C...    Acer   \n",
       "864         864  Lenovo LOQ 2023 Gaming Laptop  (13th Gen Core ...  Lenovo   \n",
       "951         951  Dell Vostro 5620 Laptop (12th Gen Core i3/ 8GB...    Dell   \n",
       "848         848  Asus Vivobook Pro 15 M6500QFB-LK541WS Laptop (...    Asus   \n",
       "472         472  Asus Vivobook 16X 2023 K3605ZF-MB541WS Laptop ...    Asus   \n",
       "\n",
       "      Price  Rating Processor_brand Processor_name Processor_variant  \\\n",
       "51    86990    4.00           Intel  Intel Core i7            12650H   \n",
       "409   54990    4.75             AMD    AMD Ryzen 5            7535HS   \n",
       "478  198999    4.30           Intel  Intel Core i9           13980HX   \n",
       "125   60200    4.75           Intel  Intel Core i5            11400H   \n",
       "872   86990    4.35           Intel  Intel Core i7            12700H   \n",
       "630   49199    4.35           Intel  Intel Core i5             1235U   \n",
       "864   89999    4.00           Intel  Intel Core i5            13420H   \n",
       "951   46899    4.50           Intel  Intel Core i3             1215U   \n",
       "848   69990    4.40             AMD    AMD Ryzen 5             5600H   \n",
       "472   66990    4.30           Intel  Intel Core i5            12450H   \n",
       "\n",
       "     Processor_gen  Core_per_processor  ...            Graphics_name  \\\n",
       "51            12.0                10.0  ...  NVIDIA Geforce RTX 4050   \n",
       "409            7.0                 6.0  ...  NVIDIA GeForce RTX 2050   \n",
       "478           13.0                24.0  ...  NVIDIA GeForce RTX 4070   \n",
       "125           11.0                 6.0  ...  NVIDIA GeForce GTX 1650   \n",
       "872           12.0                14.0  ...  NVIDIA GeForce RTX 3050   \n",
       "630           12.0                10.0  ...   Intel Iris Xe Graphics   \n",
       "864           13.0                 8.0  ...  NVIDIA GeForce RTX 4060   \n",
       "951           12.0                 6.0  ...                Intel UHD   \n",
       "848            5.0                 6.0  ...  NVIDIA GeForce RTX 2050   \n",
       "472           12.0                 8.0  ...  NVIDIA GeForce RTX 2050   \n",
       "\n",
       "     Graphics_brand  Graphics_GB  Graphics_integreted  Display_size_inches  \\\n",
       "51           NVIDIA          6.0                False                 16.0   \n",
       "409          NVIDIA          4.0                False                 15.6   \n",
       "478          NVIDIA          8.0                False                 16.0   \n",
       "125          NVIDIA          4.0                False                 16.1   \n",
       "872          NVIDIA          4.0                False                 15.6   \n",
       "630           Intel          NaN                False                 15.6   \n",
       "864          NVIDIA          8.0                False                 15.6   \n",
       "951           Intel          NaN                False                 16.0   \n",
       "848          NVIDIA          4.0                False                 15.6   \n",
       "472          NVIDIA          4.0                False                 16.0   \n",
       "\n",
       "     Horizontal_pixel Vertical_pixel     ppi Touch_screen Operating_system  \n",
       "51               1920           1200  141.51        False    Windows 11 OS  \n",
       "409              1920           1080  141.21        False    Windows 11 OS  \n",
       "478              2560           1600  188.68        False    Windows 11 OS  \n",
       "125              1920           1080  136.83        False    Windows 11 OS  \n",
       "872              1920           1080  141.21        False    Windows 11 OS  \n",
       "630              1920           1080  141.21        False    Windows 11 OS  \n",
       "864              1920           1080  141.21        False    Windows 11 OS  \n",
       "951              1920           1080  137.68        False    Windows 11 OS  \n",
       "848              1920           1080  141.21        False    Windows 11 OS  \n",
       "472              1920           1200  141.51        False    Windows 11 OS  \n",
       "\n",
       "[10 rows x 29 columns]"
      ]
     },
     "execution_count": 3,
     "metadata": {},
     "output_type": "execute_result"
    }
   ],
   "source": [
    "df.sample(10)"
   ]
  },
  {
   "cell_type": "code",
   "execution_count": 4,
   "id": "adba1445-a282-42d1-95e4-e454204c0d20",
   "metadata": {},
   "outputs": [],
   "source": [
    "df.drop(columns=['Unnamed: 0'],axis=1,inplace=True)"
   ]
  },
  {
   "cell_type": "code",
   "execution_count": 5,
   "id": "7d51739e-4a78-45f5-8634-c971a62516c4",
   "metadata": {},
   "outputs": [
    {
     "data": {
      "text/html": [
       "<div>\n",
       "<style scoped>\n",
       "    .dataframe tbody tr th:only-of-type {\n",
       "        vertical-align: middle;\n",
       "    }\n",
       "\n",
       "    .dataframe tbody tr th {\n",
       "        vertical-align: top;\n",
       "    }\n",
       "\n",
       "    .dataframe thead th {\n",
       "        text-align: right;\n",
       "    }\n",
       "</style>\n",
       "<table border=\"1\" class=\"dataframe\">\n",
       "  <thead>\n",
       "    <tr style=\"text-align: right;\">\n",
       "      <th></th>\n",
       "      <th>Name</th>\n",
       "      <th>Brand</th>\n",
       "      <th>Price</th>\n",
       "      <th>Rating</th>\n",
       "      <th>Processor_brand</th>\n",
       "      <th>Processor_name</th>\n",
       "      <th>Processor_variant</th>\n",
       "      <th>Processor_gen</th>\n",
       "      <th>Core_per_processor</th>\n",
       "      <th>Total_processor</th>\n",
       "      <th>...</th>\n",
       "      <th>Graphics_name</th>\n",
       "      <th>Graphics_brand</th>\n",
       "      <th>Graphics_GB</th>\n",
       "      <th>Graphics_integreted</th>\n",
       "      <th>Display_size_inches</th>\n",
       "      <th>Horizontal_pixel</th>\n",
       "      <th>Vertical_pixel</th>\n",
       "      <th>ppi</th>\n",
       "      <th>Touch_screen</th>\n",
       "      <th>Operating_system</th>\n",
       "    </tr>\n",
       "  </thead>\n",
       "  <tbody>\n",
       "    <tr>\n",
       "      <th>0</th>\n",
       "      <td>HP Victus 15-fb0157AX Gaming Laptop (AMD Ryzen...</td>\n",
       "      <td>HP</td>\n",
       "      <td>50399</td>\n",
       "      <td>4.30</td>\n",
       "      <td>AMD</td>\n",
       "      <td>AMD Ryzen 5</td>\n",
       "      <td>5600H</td>\n",
       "      <td>5.0</td>\n",
       "      <td>6.0</td>\n",
       "      <td>NaN</td>\n",
       "      <td>...</td>\n",
       "      <td>AMD Radeon RX 6500M</td>\n",
       "      <td>AMD</td>\n",
       "      <td>4.0</td>\n",
       "      <td>False</td>\n",
       "      <td>15.6</td>\n",
       "      <td>1920</td>\n",
       "      <td>1080</td>\n",
       "      <td>141.21</td>\n",
       "      <td>True</td>\n",
       "      <td>Windows 11 OS</td>\n",
       "    </tr>\n",
       "    <tr>\n",
       "      <th>1</th>\n",
       "      <td>Lenovo V15 G4 ‎82YU00W7IN Laptop (AMD Ryzen 3 ...</td>\n",
       "      <td>Lenovo</td>\n",
       "      <td>26690</td>\n",
       "      <td>4.45</td>\n",
       "      <td>AMD</td>\n",
       "      <td>AMD Ryzen 3</td>\n",
       "      <td>7320U</td>\n",
       "      <td>7.0</td>\n",
       "      <td>4.0</td>\n",
       "      <td>NaN</td>\n",
       "      <td>...</td>\n",
       "      <td>AMD Radeon Graphics</td>\n",
       "      <td>AMD</td>\n",
       "      <td>NaN</td>\n",
       "      <td>False</td>\n",
       "      <td>15.6</td>\n",
       "      <td>1920</td>\n",
       "      <td>1080</td>\n",
       "      <td>141.21</td>\n",
       "      <td>False</td>\n",
       "      <td>Windows 11 OS</td>\n",
       "    </tr>\n",
       "    <tr>\n",
       "      <th>2</th>\n",
       "      <td>HP 15s-fq5007TU Laptop (12th Gen Core i3/ 8GB/...</td>\n",
       "      <td>HP</td>\n",
       "      <td>37012</td>\n",
       "      <td>4.65</td>\n",
       "      <td>Intel</td>\n",
       "      <td>Intel Core i3</td>\n",
       "      <td>1215U</td>\n",
       "      <td>12.0</td>\n",
       "      <td>6.0</td>\n",
       "      <td>2.0</td>\n",
       "      <td>...</td>\n",
       "      <td>Intel UHD Graphics</td>\n",
       "      <td>Intel</td>\n",
       "      <td>NaN</td>\n",
       "      <td>False</td>\n",
       "      <td>15.6</td>\n",
       "      <td>1920</td>\n",
       "      <td>1080</td>\n",
       "      <td>141.21</td>\n",
       "      <td>False</td>\n",
       "      <td>Windows 11 OS</td>\n",
       "    </tr>\n",
       "    <tr>\n",
       "      <th>3</th>\n",
       "      <td>Samsung Galaxy Book2 Pro 13 Laptop (12th Gen C...</td>\n",
       "      <td>Samsung</td>\n",
       "      <td>69990</td>\n",
       "      <td>4.75</td>\n",
       "      <td>Intel</td>\n",
       "      <td>Intel Core i5</td>\n",
       "      <td>1240P</td>\n",
       "      <td>12.0</td>\n",
       "      <td>12.0</td>\n",
       "      <td>4.0</td>\n",
       "      <td>...</td>\n",
       "      <td>Intel Iris Xe Graphics</td>\n",
       "      <td>Intel</td>\n",
       "      <td>NaN</td>\n",
       "      <td>False</td>\n",
       "      <td>13.3</td>\n",
       "      <td>1080</td>\n",
       "      <td>1920</td>\n",
       "      <td>165.63</td>\n",
       "      <td>False</td>\n",
       "      <td>Windows 11 OS</td>\n",
       "    </tr>\n",
       "    <tr>\n",
       "      <th>4</th>\n",
       "      <td>Tecno Megabook T1 Laptop (11th Gen Core i3/ 8G...</td>\n",
       "      <td>Tecno</td>\n",
       "      <td>23990</td>\n",
       "      <td>4.25</td>\n",
       "      <td>Intel</td>\n",
       "      <td>Intel Core i3</td>\n",
       "      <td>1115G4</td>\n",
       "      <td>11.0</td>\n",
       "      <td>2.0</td>\n",
       "      <td>NaN</td>\n",
       "      <td>...</td>\n",
       "      <td>Intel UHD Graphics</td>\n",
       "      <td>Intel</td>\n",
       "      <td>NaN</td>\n",
       "      <td>False</td>\n",
       "      <td>15.6</td>\n",
       "      <td>1920</td>\n",
       "      <td>1080</td>\n",
       "      <td>141.21</td>\n",
       "      <td>False</td>\n",
       "      <td>Windows 11 OS</td>\n",
       "    </tr>\n",
       "  </tbody>\n",
       "</table>\n",
       "<p>5 rows × 28 columns</p>\n",
       "</div>"
      ],
      "text/plain": [
       "                                                Name    Brand  Price  Rating  \\\n",
       "0  HP Victus 15-fb0157AX Gaming Laptop (AMD Ryzen...       HP  50399    4.30   \n",
       "1  Lenovo V15 G4 ‎82YU00W7IN Laptop (AMD Ryzen 3 ...   Lenovo  26690    4.45   \n",
       "2  HP 15s-fq5007TU Laptop (12th Gen Core i3/ 8GB/...       HP  37012    4.65   \n",
       "3  Samsung Galaxy Book2 Pro 13 Laptop (12th Gen C...  Samsung  69990    4.75   \n",
       "4  Tecno Megabook T1 Laptop (11th Gen Core i3/ 8G...    Tecno  23990    4.25   \n",
       "\n",
       "  Processor_brand Processor_name Processor_variant  Processor_gen  \\\n",
       "0             AMD    AMD Ryzen 5             5600H            5.0   \n",
       "1             AMD    AMD Ryzen 3             7320U            7.0   \n",
       "2           Intel  Intel Core i3             1215U           12.0   \n",
       "3           Intel  Intel Core i5             1240P           12.0   \n",
       "4           Intel  Intel Core i3            1115G4           11.0   \n",
       "\n",
       "   Core_per_processor  Total_processor  ...           Graphics_name  \\\n",
       "0                 6.0              NaN  ...     AMD Radeon RX 6500M   \n",
       "1                 4.0              NaN  ...     AMD Radeon Graphics   \n",
       "2                 6.0              2.0  ...      Intel UHD Graphics   \n",
       "3                12.0              4.0  ...  Intel Iris Xe Graphics   \n",
       "4                 2.0              NaN  ...      Intel UHD Graphics   \n",
       "\n",
       "   Graphics_brand  Graphics_GB  Graphics_integreted  Display_size_inches  \\\n",
       "0             AMD          4.0                False                 15.6   \n",
       "1             AMD          NaN                False                 15.6   \n",
       "2           Intel          NaN                False                 15.6   \n",
       "3           Intel          NaN                False                 13.3   \n",
       "4           Intel          NaN                False                 15.6   \n",
       "\n",
       "  Horizontal_pixel  Vertical_pixel     ppi Touch_screen Operating_system  \n",
       "0             1920            1080  141.21         True    Windows 11 OS  \n",
       "1             1920            1080  141.21        False    Windows 11 OS  \n",
       "2             1920            1080  141.21        False    Windows 11 OS  \n",
       "3             1080            1920  165.63        False    Windows 11 OS  \n",
       "4             1920            1080  141.21        False    Windows 11 OS  \n",
       "\n",
       "[5 rows x 28 columns]"
      ]
     },
     "execution_count": 5,
     "metadata": {},
     "output_type": "execute_result"
    }
   ],
   "source": [
    "df.head()"
   ]
  },
  {
   "cell_type": "code",
   "execution_count": 6,
   "id": "3d28b2b8-f418-4f02-b20b-59124c455fcd",
   "metadata": {},
   "outputs": [],
   "source": [
    "pd.set_option('display.max_columns', None)"
   ]
  },
  {
   "cell_type": "code",
   "execution_count": 7,
   "id": "3c4d7e77-22b3-44d1-b9d3-5d7f5045d3cc",
   "metadata": {},
   "outputs": [],
   "source": [
    "df.drop(columns=['Processor_variant','Core_per_processor','Execution_units','Low_Power_Cores','Energy_Efficient_Units','Threads','RAM_type','Graphics_integreted','Processor_gen'],axis=1,inplace=True)"
   ]
  },
  {
   "cell_type": "code",
   "execution_count": 8,
   "id": "58f9da29-304d-4767-8eae-3eec44a297cb",
   "metadata": {},
   "outputs": [
    {
     "name": "stdout",
     "output_type": "stream",
     "text": [
      "<class 'pandas.core.frame.DataFrame'>\n",
      "RangeIndex: 1020 entries, 0 to 1019\n",
      "Data columns (total 19 columns):\n",
      " #   Column               Non-Null Count  Dtype  \n",
      "---  ------               --------------  -----  \n",
      " 0   Name                 1020 non-null   object \n",
      " 1   Brand                1020 non-null   object \n",
      " 2   Price                1020 non-null   int64  \n",
      " 3   Rating               1020 non-null   float64\n",
      " 4   Processor_brand      1020 non-null   object \n",
      " 5   Processor_name       1020 non-null   object \n",
      " 6   Total_processor      573 non-null    float64\n",
      " 7   RAM_GB               1020 non-null   int64  \n",
      " 8   Storage_capacity_GB  1020 non-null   int64  \n",
      " 9   Storage_type         1020 non-null   object \n",
      " 10  Graphics_name        1018 non-null   object \n",
      " 11  Graphics_brand       1018 non-null   object \n",
      " 12  Graphics_GB          368 non-null    float64\n",
      " 13  Display_size_inches  1020 non-null   float64\n",
      " 14  Horizontal_pixel     1020 non-null   int64  \n",
      " 15  Vertical_pixel       1020 non-null   int64  \n",
      " 16  ppi                  1020 non-null   float64\n",
      " 17  Touch_screen         1020 non-null   bool   \n",
      " 18  Operating_system     1020 non-null   object \n",
      "dtypes: bool(1), float64(5), int64(5), object(8)\n",
      "memory usage: 144.6+ KB\n"
     ]
    }
   ],
   "source": [
    "df.info()"
   ]
  },
  {
   "cell_type": "code",
   "execution_count": 9,
   "id": "f1943b37-e67a-4cd2-a9cc-545252d7e43e",
   "metadata": {},
   "outputs": [
    {
     "data": {
      "text/plain": [
       "np.int64(0)"
      ]
     },
     "execution_count": 9,
     "metadata": {},
     "output_type": "execute_result"
    }
   ],
   "source": [
    "df.duplicated().sum()"
   ]
  },
  {
   "cell_type": "code",
   "execution_count": 10,
   "id": "6d7d130c-9796-4094-8561-aaca473f291d",
   "metadata": {},
   "outputs": [],
   "source": [
    "df.drop(columns=['Rating'],axis=1,inplace=True)"
   ]
  },
  {
   "cell_type": "code",
   "execution_count": 11,
   "id": "0510b213-10d5-4a2f-a3af-7e53255fa169",
   "metadata": {},
   "outputs": [],
   "source": [
    "df.drop(columns=['Total_processor'],axis=1,inplace=True)"
   ]
  },
  {
   "cell_type": "code",
   "execution_count": 12,
   "id": "1130b3b9-d4e8-4c25-807e-66b81158aefa",
   "metadata": {},
   "outputs": [],
   "source": [
    "df.drop(columns=['Graphics_GB'],axis=1,inplace=True)"
   ]
  },
  {
   "cell_type": "code",
   "execution_count": 13,
   "id": "a2daa751-5132-4ba6-9eb8-85d1adac1abb",
   "metadata": {},
   "outputs": [
    {
     "data": {
      "text/html": [
       "<div>\n",
       "<style scoped>\n",
       "    .dataframe tbody tr th:only-of-type {\n",
       "        vertical-align: middle;\n",
       "    }\n",
       "\n",
       "    .dataframe tbody tr th {\n",
       "        vertical-align: top;\n",
       "    }\n",
       "\n",
       "    .dataframe thead th {\n",
       "        text-align: right;\n",
       "    }\n",
       "</style>\n",
       "<table border=\"1\" class=\"dataframe\">\n",
       "  <thead>\n",
       "    <tr style=\"text-align: right;\">\n",
       "      <th></th>\n",
       "      <th>Name</th>\n",
       "      <th>Brand</th>\n",
       "      <th>Price</th>\n",
       "      <th>Processor_brand</th>\n",
       "      <th>Processor_name</th>\n",
       "      <th>RAM_GB</th>\n",
       "      <th>Storage_capacity_GB</th>\n",
       "      <th>Storage_type</th>\n",
       "      <th>Graphics_name</th>\n",
       "      <th>Graphics_brand</th>\n",
       "      <th>Display_size_inches</th>\n",
       "      <th>Horizontal_pixel</th>\n",
       "      <th>Vertical_pixel</th>\n",
       "      <th>ppi</th>\n",
       "      <th>Touch_screen</th>\n",
       "      <th>Operating_system</th>\n",
       "    </tr>\n",
       "  </thead>\n",
       "  <tbody>\n",
       "    <tr>\n",
       "      <th>360</th>\n",
       "      <td>Asus Vivobook Go 14 E1404FA-NK547WS Laptop (Ry...</td>\n",
       "      <td>Asus</td>\n",
       "      <td>47990</td>\n",
       "      <td>AMD</td>\n",
       "      <td>AMD Ryzen 5</td>\n",
       "      <td>16</td>\n",
       "      <td>512</td>\n",
       "      <td>SSD</td>\n",
       "      <td>AMD Radeon AMD</td>\n",
       "      <td>AMD</td>\n",
       "      <td>14.0</td>\n",
       "      <td>1920</td>\n",
       "      <td>1080</td>\n",
       "      <td>157.35</td>\n",
       "      <td>False</td>\n",
       "      <td>Windows 11 OS</td>\n",
       "    </tr>\n",
       "    <tr>\n",
       "      <th>292</th>\n",
       "      <td>HP Victus 15-fb0040AX Gaming Laptop (AMD Ryzen...</td>\n",
       "      <td>HP</td>\n",
       "      <td>48890</td>\n",
       "      <td>AMD</td>\n",
       "      <td>AMD Ryzen 5</td>\n",
       "      <td>8</td>\n",
       "      <td>512</td>\n",
       "      <td>SSD</td>\n",
       "      <td>NVIDIA GeForce GTX 1650</td>\n",
       "      <td>NVIDIA</td>\n",
       "      <td>15.6</td>\n",
       "      <td>1920</td>\n",
       "      <td>1080</td>\n",
       "      <td>141.21</td>\n",
       "      <td>False</td>\n",
       "      <td>Windows 11 OS</td>\n",
       "    </tr>\n",
       "    <tr>\n",
       "      <th>708</th>\n",
       "      <td>Lenovo Yoga Slim 6 14IRH8 83E00007IN Laptop (1...</td>\n",
       "      <td>Lenovo</td>\n",
       "      <td>106000</td>\n",
       "      <td>Intel</td>\n",
       "      <td>Intel Core i7</td>\n",
       "      <td>16</td>\n",
       "      <td>512</td>\n",
       "      <td>SSD</td>\n",
       "      <td>Intel Integrated Iris Xe</td>\n",
       "      <td>Intel</td>\n",
       "      <td>14.0</td>\n",
       "      <td>1920</td>\n",
       "      <td>1200</td>\n",
       "      <td>161.73</td>\n",
       "      <td>False</td>\n",
       "      <td>Windows 11 OS</td>\n",
       "    </tr>\n",
       "    <tr>\n",
       "      <th>341</th>\n",
       "      <td>Dell Inspiron 7430 14 2 in 1 Laptop (13th Gen ...</td>\n",
       "      <td>Dell</td>\n",
       "      <td>57990</td>\n",
       "      <td>Intel</td>\n",
       "      <td>Intel Core i3</td>\n",
       "      <td>8</td>\n",
       "      <td>512</td>\n",
       "      <td>SSD</td>\n",
       "      <td>Intel UHD Graphics</td>\n",
       "      <td>Intel</td>\n",
       "      <td>14.0</td>\n",
       "      <td>1920</td>\n",
       "      <td>1200</td>\n",
       "      <td>161.73</td>\n",
       "      <td>True</td>\n",
       "      <td>Windows 11 OS</td>\n",
       "    </tr>\n",
       "    <tr>\n",
       "      <th>54</th>\n",
       "      <td>Dell Vostro 3520 Laptop (12th Gen Core i5/ 8GB...</td>\n",
       "      <td>Dell</td>\n",
       "      <td>48990</td>\n",
       "      <td>Intel</td>\n",
       "      <td>Intel Core i5</td>\n",
       "      <td>8</td>\n",
       "      <td>512</td>\n",
       "      <td>SSD</td>\n",
       "      <td>Intel Iris Xe Graphics</td>\n",
       "      <td>Intel</td>\n",
       "      <td>15.6</td>\n",
       "      <td>1920</td>\n",
       "      <td>1080</td>\n",
       "      <td>141.21</td>\n",
       "      <td>False</td>\n",
       "      <td>Windows 11 OS</td>\n",
       "    </tr>\n",
       "    <tr>\n",
       "      <th>316</th>\n",
       "      <td>Lenovo Thinkpad E14 20YES00K00 Laptop (AMD Ryz...</td>\n",
       "      <td>Lenovo</td>\n",
       "      <td>79999</td>\n",
       "      <td>AMD</td>\n",
       "      <td>AMD Ryzen 7</td>\n",
       "      <td>16</td>\n",
       "      <td>512</td>\n",
       "      <td>SSD</td>\n",
       "      <td>AMD Raedon Graphics</td>\n",
       "      <td>AMD</td>\n",
       "      <td>14.0</td>\n",
       "      <td>1920</td>\n",
       "      <td>1080</td>\n",
       "      <td>157.35</td>\n",
       "      <td>False</td>\n",
       "      <td>Windows 10 OS</td>\n",
       "    </tr>\n",
       "    <tr>\n",
       "      <th>275</th>\n",
       "      <td>MSI Modern 14 C12M-445IN Laptop (12th Gen Core...</td>\n",
       "      <td>MSI</td>\n",
       "      <td>31030</td>\n",
       "      <td>Intel</td>\n",
       "      <td>Intel Core i3</td>\n",
       "      <td>8</td>\n",
       "      <td>512</td>\n",
       "      <td>SSD</td>\n",
       "      <td>Intel Integrated UHD</td>\n",
       "      <td>Intel</td>\n",
       "      <td>14.0</td>\n",
       "      <td>1920</td>\n",
       "      <td>1080</td>\n",
       "      <td>157.35</td>\n",
       "      <td>False</td>\n",
       "      <td>Windows 11 OS</td>\n",
       "    </tr>\n",
       "    <tr>\n",
       "      <th>933</th>\n",
       "      <td>MSI Modern 14 C11M-029IN Laptop (11th Gen Core...</td>\n",
       "      <td>MSI</td>\n",
       "      <td>39990</td>\n",
       "      <td>Intel</td>\n",
       "      <td>Intel Core i5</td>\n",
       "      <td>16</td>\n",
       "      <td>512</td>\n",
       "      <td>SSD</td>\n",
       "      <td>Intel Integrated Iris Xe</td>\n",
       "      <td>Intel</td>\n",
       "      <td>14.0</td>\n",
       "      <td>1920</td>\n",
       "      <td>1080</td>\n",
       "      <td>157.35</td>\n",
       "      <td>False</td>\n",
       "      <td>Windows 11 OS</td>\n",
       "    </tr>\n",
       "    <tr>\n",
       "      <th>309</th>\n",
       "      <td>Samsung Galaxy Book 4 Pro 360 NP960QGK-KG2IN L...</td>\n",
       "      <td>Samsung</td>\n",
       "      <td>179990</td>\n",
       "      <td>Intel</td>\n",
       "      <td>Intel Core Ultra</td>\n",
       "      <td>16</td>\n",
       "      <td>1000</td>\n",
       "      <td>SSD</td>\n",
       "      <td>Intel Arc Graphics</td>\n",
       "      <td>Intel</td>\n",
       "      <td>16.0</td>\n",
       "      <td>2880</td>\n",
       "      <td>1800</td>\n",
       "      <td>212.26</td>\n",
       "      <td>True</td>\n",
       "      <td>Windows 11 OS</td>\n",
       "    </tr>\n",
       "    <tr>\n",
       "      <th>683</th>\n",
       "      <td>Lenovo V15 G4 Laptop (AMD Ryzen 5 7520U/ 8GB/ ...</td>\n",
       "      <td>Lenovo</td>\n",
       "      <td>34821</td>\n",
       "      <td>AMD</td>\n",
       "      <td>AMD Ryzen 5</td>\n",
       "      <td>8</td>\n",
       "      <td>512</td>\n",
       "      <td>SSD</td>\n",
       "      <td>AMD Radeon Graphics</td>\n",
       "      <td>AMD</td>\n",
       "      <td>15.6</td>\n",
       "      <td>1920</td>\n",
       "      <td>1080</td>\n",
       "      <td>141.21</td>\n",
       "      <td>False</td>\n",
       "      <td>Windows 11 OS</td>\n",
       "    </tr>\n",
       "  </tbody>\n",
       "</table>\n",
       "</div>"
      ],
      "text/plain": [
       "                                                  Name    Brand   Price  \\\n",
       "360  Asus Vivobook Go 14 E1404FA-NK547WS Laptop (Ry...     Asus   47990   \n",
       "292  HP Victus 15-fb0040AX Gaming Laptop (AMD Ryzen...       HP   48890   \n",
       "708  Lenovo Yoga Slim 6 14IRH8 83E00007IN Laptop (1...   Lenovo  106000   \n",
       "341  Dell Inspiron 7430 14 2 in 1 Laptop (13th Gen ...     Dell   57990   \n",
       "54   Dell Vostro 3520 Laptop (12th Gen Core i5/ 8GB...     Dell   48990   \n",
       "316  Lenovo Thinkpad E14 20YES00K00 Laptop (AMD Ryz...   Lenovo   79999   \n",
       "275  MSI Modern 14 C12M-445IN Laptop (12th Gen Core...      MSI   31030   \n",
       "933  MSI Modern 14 C11M-029IN Laptop (11th Gen Core...      MSI   39990   \n",
       "309  Samsung Galaxy Book 4 Pro 360 NP960QGK-KG2IN L...  Samsung  179990   \n",
       "683  Lenovo V15 G4 Laptop (AMD Ryzen 5 7520U/ 8GB/ ...   Lenovo   34821   \n",
       "\n",
       "    Processor_brand    Processor_name  RAM_GB  Storage_capacity_GB  \\\n",
       "360             AMD       AMD Ryzen 5      16                  512   \n",
       "292             AMD       AMD Ryzen 5       8                  512   \n",
       "708           Intel     Intel Core i7      16                  512   \n",
       "341           Intel     Intel Core i3       8                  512   \n",
       "54            Intel     Intel Core i5       8                  512   \n",
       "316             AMD       AMD Ryzen 7      16                  512   \n",
       "275           Intel     Intel Core i3       8                  512   \n",
       "933           Intel     Intel Core i5      16                  512   \n",
       "309           Intel  Intel Core Ultra      16                 1000   \n",
       "683             AMD       AMD Ryzen 5       8                  512   \n",
       "\n",
       "    Storage_type             Graphics_name Graphics_brand  \\\n",
       "360          SSD            AMD Radeon AMD            AMD   \n",
       "292          SSD   NVIDIA GeForce GTX 1650         NVIDIA   \n",
       "708          SSD  Intel Integrated Iris Xe          Intel   \n",
       "341          SSD        Intel UHD Graphics          Intel   \n",
       "54           SSD    Intel Iris Xe Graphics          Intel   \n",
       "316          SSD       AMD Raedon Graphics            AMD   \n",
       "275          SSD      Intel Integrated UHD          Intel   \n",
       "933          SSD  Intel Integrated Iris Xe          Intel   \n",
       "309          SSD        Intel Arc Graphics          Intel   \n",
       "683          SSD       AMD Radeon Graphics            AMD   \n",
       "\n",
       "     Display_size_inches  Horizontal_pixel  Vertical_pixel     ppi  \\\n",
       "360                 14.0              1920            1080  157.35   \n",
       "292                 15.6              1920            1080  141.21   \n",
       "708                 14.0              1920            1200  161.73   \n",
       "341                 14.0              1920            1200  161.73   \n",
       "54                  15.6              1920            1080  141.21   \n",
       "316                 14.0              1920            1080  157.35   \n",
       "275                 14.0              1920            1080  157.35   \n",
       "933                 14.0              1920            1080  157.35   \n",
       "309                 16.0              2880            1800  212.26   \n",
       "683                 15.6              1920            1080  141.21   \n",
       "\n",
       "     Touch_screen Operating_system  \n",
       "360         False    Windows 11 OS  \n",
       "292         False    Windows 11 OS  \n",
       "708         False    Windows 11 OS  \n",
       "341          True    Windows 11 OS  \n",
       "54          False    Windows 11 OS  \n",
       "316         False    Windows 10 OS  \n",
       "275         False    Windows 11 OS  \n",
       "933         False    Windows 11 OS  \n",
       "309          True    Windows 11 OS  \n",
       "683         False    Windows 11 OS  "
      ]
     },
     "execution_count": 13,
     "metadata": {},
     "output_type": "execute_result"
    }
   ],
   "source": [
    "df.sample(10)"
   ]
  },
  {
   "cell_type": "code",
   "execution_count": 14,
   "id": "7d830df2-c2e1-4ea8-8dd3-118a7aa5316a",
   "metadata": {},
   "outputs": [
    {
     "name": "stdout",
     "output_type": "stream",
     "text": [
      "<class 'pandas.core.frame.DataFrame'>\n",
      "RangeIndex: 1020 entries, 0 to 1019\n",
      "Data columns (total 16 columns):\n",
      " #   Column               Non-Null Count  Dtype  \n",
      "---  ------               --------------  -----  \n",
      " 0   Name                 1020 non-null   object \n",
      " 1   Brand                1020 non-null   object \n",
      " 2   Price                1020 non-null   int64  \n",
      " 3   Processor_brand      1020 non-null   object \n",
      " 4   Processor_name       1020 non-null   object \n",
      " 5   RAM_GB               1020 non-null   int64  \n",
      " 6   Storage_capacity_GB  1020 non-null   int64  \n",
      " 7   Storage_type         1020 non-null   object \n",
      " 8   Graphics_name        1018 non-null   object \n",
      " 9   Graphics_brand       1018 non-null   object \n",
      " 10  Display_size_inches  1020 non-null   float64\n",
      " 11  Horizontal_pixel     1020 non-null   int64  \n",
      " 12  Vertical_pixel       1020 non-null   int64  \n",
      " 13  ppi                  1020 non-null   float64\n",
      " 14  Touch_screen         1020 non-null   bool   \n",
      " 15  Operating_system     1020 non-null   object \n",
      "dtypes: bool(1), float64(2), int64(5), object(8)\n",
      "memory usage: 120.7+ KB\n"
     ]
    }
   ],
   "source": [
    "df.info()"
   ]
  },
  {
   "cell_type": "code",
   "execution_count": 15,
   "id": "8754d699-2cdf-4722-9938-33273c45e19d",
   "metadata": {},
   "outputs": [
    {
     "data": {
      "text/plain": [
       "<Axes: xlabel='Brand'>"
      ]
     },
     "execution_count": 15,
     "metadata": {},
     "output_type": "execute_result"
    },
    {
     "data": {
      "image/png": "[encoded data removed]",
      "text/plain": [
       "<Figure size 640x480 with 1 Axes>"
      ]
     },
     "metadata": {},
     "output_type": "display_data"
    }
   ],
   "source": [
    "df['Brand'].value_counts().plot(kind='bar')"
   ]
  },
  {
   "cell_type": "code",
   "execution_count": 16,
   "id": "fb5a825a-dac4-45c7-ac12-38499142ea20",
   "metadata": {},
   "outputs": [],
   "source": [
    "import seaborn as sns\n",
    "from matplotlib import pyplot as plt"
   ]
  },
  {
   "cell_type": "code",
   "execution_count": 17,
   "id": "21753db7-ca5a-41c9-a86b-a136a9dc4633",
   "metadata": {},
   "outputs": [
    {
     "name": "stderr",
     "output_type": "stream",
     "text": [
      "C:\\Users\\mdzai\\AppData\\Local\\Temp\\ipykernel_27684\\154242684.py:1: FutureWarning: \n",
      "\n",
      "Passing `palette` without assigning `hue` is deprecated and will be removed in v0.14.0. Assign the `x` variable to `hue` and set `legend=False` for the same effect.\n",
      "\n",
      "  sns.barplot(x=df['Brand'],y=df['Price'],palette='viridis')\n"
     ]
    },
    {
     "data": {
      "image/png": "[encoded data removed]",
      "text/plain": [
       "<Figure size 640x480 with 1 Axes>"
      ]
     },
     "metadata": {},
     "output_type": "display_data"
    }
   ],
   "source": [
    "sns.barplot(x=df['Brand'],y=df['Price'],palette='viridis')\n",
    "plt.xticks(rotation='vertical')\n",
    "plt.show()"
   ]
  },
  {
   "cell_type": "code",
   "execution_count": 18,
   "id": "d5edd7fb-410c-48f1-b5d6-12fb2819932c",
   "metadata": {},
   "outputs": [
    {
     "name": "stderr",
     "output_type": "stream",
     "text": [
      "C:\\Users\\mdzai\\AppData\\Local\\Temp\\ipykernel_27684\\834922981.py:1: UserWarning: \n",
      "\n",
      "`distplot` is a deprecated function and will be removed in seaborn v0.14.0.\n",
      "\n",
      "Please adapt your code to use either `displot` (a figure-level function with\n",
      "similar flexibility) or `histplot` (an axes-level function for histograms).\n",
      "\n",
      "For a guide to updating your code to use the new functions, please see\n",
      "https://gist.github.com/mwaskom/de44147ed2974457ad6372750bbe5751\n",
      "\n",
      "  sns.distplot(df['Price'])\n"
     ]
    },
    {
     "data": {
      "text/plain": [
       "<Axes: xlabel='Price', ylabel='Density'>"
      ]
     },
     "execution_count": 18,
     "metadata": {},
     "output_type": "execute_result"
    },
    {
     "data": {
      "image/png": "[encoded data removed]",
      "text/plain": [
       "<Figure size 640x480 with 1 Axes>"
      ]
     },
     "metadata": {},
     "output_type": "display_data"
    }
   ],
   "source": [
    "sns.distplot(df['Price'])"
   ]
  },
  {
   "cell_type": "code",
   "execution_count": 19,
   "id": "132f4a06-30db-43eb-98c0-5c1623a956ff",
   "metadata": {},
   "outputs": [],
   "source": [
    "df = df[df['Price'].apply(lambda x: x<350000)].reset_index()"
   ]
  },
  {
   "cell_type": "code",
   "execution_count": 20,
   "id": "0839625e-78ab-4116-bc12-2eb275b99c86",
   "metadata": {},
   "outputs": [
    {
     "name": "stdout",
     "output_type": "stream",
     "text": [
      "<class 'pandas.core.frame.DataFrame'>\n",
      "RangeIndex: 1008 entries, 0 to 1007\n",
      "Data columns (total 17 columns):\n",
      " #   Column               Non-Null Count  Dtype  \n",
      "---  ------               --------------  -----  \n",
      " 0   index                1008 non-null   int64  \n",
      " 1   Name                 1008 non-null   object \n",
      " 2   Brand                1008 non-null   object \n",
      " 3   Price                1008 non-null   int64  \n",
      " 4   Processor_brand      1008 non-null   object \n",
      " 5   Processor_name       1008 non-null   object \n",
      " 6   RAM_GB               1008 non-null   int64  \n",
      " 7   Storage_capacity_GB  1008 non-null   int64  \n",
      " 8   Storage_type         1008 non-null   object \n",
      " 9   Graphics_name        1006 non-null   object \n",
      " 10  Graphics_brand       1006 non-null   object \n",
      " 11  Display_size_inches  1008 non-null   float64\n",
      " 12  Horizontal_pixel     1008 non-null   int64  \n",
      " 13  Vertical_pixel       1008 non-null   int64  \n",
      " 14  ppi                  1008 non-null   float64\n",
      " 15  Touch_screen         1008 non-null   bool   \n",
      " 16  Operating_system     1008 non-null   object \n",
      "dtypes: bool(1), float64(2), int64(6), object(8)\n",
      "memory usage: 127.1+ KB\n"
     ]
    }
   ],
   "source": [
    "df.info()"
   ]
  },
  {
   "cell_type": "code",
   "execution_count": 21,
   "id": "0c6ac947-9723-4ed6-9b81-5231b29c494b",
   "metadata": {},
   "outputs": [
    {
     "name": "stderr",
     "output_type": "stream",
     "text": [
      "C:\\Users\\mdzai\\AppData\\Local\\Temp\\ipykernel_27684\\834922981.py:1: UserWarning: \n",
      "\n",
      "`distplot` is a deprecated function and will be removed in seaborn v0.14.0.\n",
      "\n",
      "Please adapt your code to use either `displot` (a figure-level function with\n",
      "similar flexibility) or `histplot` (an axes-level function for histograms).\n",
      "\n",
      "For a guide to updating your code to use the new functions, please see\n",
      "https://gist.github.com/mwaskom/de44147ed2974457ad6372750bbe5751\n",
      "\n",
      "  sns.distplot(df['Price'])\n"
     ]
    },
    {
     "data": {
      "text/plain": [
       "<Axes: xlabel='Price', ylabel='Density'>"
      ]
     },
     "execution_count": 21,
     "metadata": {},
     "output_type": "execute_result"
    },
    {
     "data": {
      "image/png": "[encoded data removed]",
      "text/plain": [
       "<Figure size 640x480 with 1 Axes>"
      ]
     },
     "metadata": {},
     "output_type": "display_data"
    }
   ],
   "source": [
    "sns.distplot(df['Price'])"
   ]
  },
  {
   "cell_type": "code",
   "execution_count": 22,
   "id": "92dcf848-3c6e-4228-a634-c21aa5fee495",
   "metadata": {},
   "outputs": [
    {
     "name": "stderr",
     "output_type": "stream",
     "text": [
      "C:\\Users\\mdzai\\AppData\\Local\\Temp\\ipykernel_27684\\3556049916.py:1: UserWarning: \n",
      "\n",
      "`distplot` is a deprecated function and will be removed in seaborn v0.14.0.\n",
      "\n",
      "Please adapt your code to use either `displot` (a figure-level function with\n",
      "similar flexibility) or `histplot` (an axes-level function for histograms).\n",
      "\n",
      "For a guide to updating your code to use the new functions, please see\n",
      "https://gist.github.com/mwaskom/de44147ed2974457ad6372750bbe5751\n",
      "\n",
      "  sns.distplot(np.log(df['Price']))\n"
     ]
    },
    {
     "data": {
      "text/plain": [
       "<Axes: xlabel='Price', ylabel='Density'>"
      ]
     },
     "execution_count": 22,
     "metadata": {},
     "output_type": "execute_result"
    },
    {
     "data": {
      "image/png": "[encoded data removed]",
      "text/plain": [
       "<Figure size 640x480 with 1 Axes>"
      ]
     },
     "metadata": {},
     "output_type": "display_data"
    }
   ],
   "source": [
    "sns.distplot(np.log(df['Price']))"
   ]
  },
  {
   "cell_type": "code",
   "execution_count": 23,
   "id": "2a9f53f6-a2b0-43ef-8a77-0da19aedc403",
   "metadata": {},
   "outputs": [
    {
     "data": {
      "text/html": [
       "<div>\n",
       "<style scoped>\n",
       "    .dataframe tbody tr th:only-of-type {\n",
       "        vertical-align: middle;\n",
       "    }\n",
       "\n",
       "    .dataframe tbody tr th {\n",
       "        vertical-align: top;\n",
       "    }\n",
       "\n",
       "    .dataframe thead th {\n",
       "        text-align: right;\n",
       "    }\n",
       "</style>\n",
       "<table border=\"1\" class=\"dataframe\">\n",
       "  <thead>\n",
       "    <tr style=\"text-align: right;\">\n",
       "      <th></th>\n",
       "      <th>index</th>\n",
       "      <th>Name</th>\n",
       "      <th>Brand</th>\n",
       "      <th>Price</th>\n",
       "      <th>Processor_brand</th>\n",
       "      <th>Processor_name</th>\n",
       "      <th>RAM_GB</th>\n",
       "      <th>Storage_capacity_GB</th>\n",
       "      <th>Storage_type</th>\n",
       "      <th>Graphics_name</th>\n",
       "      <th>Graphics_brand</th>\n",
       "      <th>Display_size_inches</th>\n",
       "      <th>Horizontal_pixel</th>\n",
       "      <th>Vertical_pixel</th>\n",
       "      <th>ppi</th>\n",
       "      <th>Touch_screen</th>\n",
       "      <th>Operating_system</th>\n",
       "    </tr>\n",
       "  </thead>\n",
       "  <tbody>\n",
       "    <tr>\n",
       "      <th>0</th>\n",
       "      <td>0</td>\n",
       "      <td>HP Victus 15-fb0157AX Gaming Laptop (AMD Ryzen...</td>\n",
       "      <td>HP</td>\n",
       "      <td>50399</td>\n",
       "      <td>AMD</td>\n",
       "      <td>AMD Ryzen 5</td>\n",
       "      <td>8</td>\n",
       "      <td>512</td>\n",
       "      <td>SSD</td>\n",
       "      <td>AMD Radeon RX 6500M</td>\n",
       "      <td>AMD</td>\n",
       "      <td>15.6</td>\n",
       "      <td>1920</td>\n",
       "      <td>1080</td>\n",
       "      <td>141.21</td>\n",
       "      <td>True</td>\n",
       "      <td>Windows 11 OS</td>\n",
       "    </tr>\n",
       "    <tr>\n",
       "      <th>1</th>\n",
       "      <td>1</td>\n",
       "      <td>Lenovo V15 G4 ‎82YU00W7IN Laptop (AMD Ryzen 3 ...</td>\n",
       "      <td>Lenovo</td>\n",
       "      <td>26690</td>\n",
       "      <td>AMD</td>\n",
       "      <td>AMD Ryzen 3</td>\n",
       "      <td>8</td>\n",
       "      <td>512</td>\n",
       "      <td>SSD</td>\n",
       "      <td>AMD Radeon Graphics</td>\n",
       "      <td>AMD</td>\n",
       "      <td>15.6</td>\n",
       "      <td>1920</td>\n",
       "      <td>1080</td>\n",
       "      <td>141.21</td>\n",
       "      <td>False</td>\n",
       "      <td>Windows 11 OS</td>\n",
       "    </tr>\n",
       "    <tr>\n",
       "      <th>2</th>\n",
       "      <td>2</td>\n",
       "      <td>HP 15s-fq5007TU Laptop (12th Gen Core i3/ 8GB/...</td>\n",
       "      <td>HP</td>\n",
       "      <td>37012</td>\n",
       "      <td>Intel</td>\n",
       "      <td>Intel Core i3</td>\n",
       "      <td>8</td>\n",
       "      <td>512</td>\n",
       "      <td>SSD</td>\n",
       "      <td>Intel UHD Graphics</td>\n",
       "      <td>Intel</td>\n",
       "      <td>15.6</td>\n",
       "      <td>1920</td>\n",
       "      <td>1080</td>\n",
       "      <td>141.21</td>\n",
       "      <td>False</td>\n",
       "      <td>Windows 11 OS</td>\n",
       "    </tr>\n",
       "  </tbody>\n",
       "</table>\n",
       "</div>"
      ],
      "text/plain": [
       "   index                                               Name   Brand  Price  \\\n",
       "0      0  HP Victus 15-fb0157AX Gaming Laptop (AMD Ryzen...      HP  50399   \n",
       "1      1  Lenovo V15 G4 ‎82YU00W7IN Laptop (AMD Ryzen 3 ...  Lenovo  26690   \n",
       "2      2  HP 15s-fq5007TU Laptop (12th Gen Core i3/ 8GB/...      HP  37012   \n",
       "\n",
       "  Processor_brand Processor_name  RAM_GB  Storage_capacity_GB Storage_type  \\\n",
       "0             AMD    AMD Ryzen 5       8                  512          SSD   \n",
       "1             AMD    AMD Ryzen 3       8                  512          SSD   \n",
       "2           Intel  Intel Core i3       8                  512          SSD   \n",
       "\n",
       "         Graphics_name Graphics_brand  Display_size_inches  Horizontal_pixel  \\\n",
       "0  AMD Radeon RX 6500M            AMD                 15.6              1920   \n",
       "1  AMD Radeon Graphics            AMD                 15.6              1920   \n",
       "2   Intel UHD Graphics          Intel                 15.6              1920   \n",
       "\n",
       "   Vertical_pixel     ppi  Touch_screen Operating_system  \n",
       "0            1080  141.21          True    Windows 11 OS  \n",
       "1            1080  141.21         False    Windows 11 OS  \n",
       "2            1080  141.21         False    Windows 11 OS  "
      ]
     },
     "execution_count": 23,
     "metadata": {},
     "output_type": "execute_result"
    }
   ],
   "source": [
    "df.head(3)"
   ]
  },
  {
   "cell_type": "code",
   "execution_count": 24,
   "id": "a26da71d-fde6-485c-8690-a109fd43a2d5",
   "metadata": {},
   "outputs": [
    {
     "data": {
      "text/plain": [
       "Processor_brand\n",
       "Intel        731\n",
       "AMD          250\n",
       "Apple         17\n",
       "MediaTek       7\n",
       "Qualcomm       1\n",
       "Microsoft      1\n",
       "HiSilicon      1\n",
       "Name: count, dtype: int64"
      ]
     },
     "execution_count": 24,
     "metadata": {},
     "output_type": "execute_result"
    }
   ],
   "source": [
    "df['Processor_brand'].value_counts()"
   ]
  },
  {
   "cell_type": "code",
   "execution_count": 25,
   "id": "15c7f83c-753b-452a-a70f-c060b40dedf1",
   "metadata": {},
   "outputs": [],
   "source": [
    "def processor(text):\n",
    "    \n",
    "    if text == 'Intel' or text == 'AMD' or text == 'Apple' :\n",
    "        return text\n",
    "    else:\n",
    "        return 'Other'"
   ]
  },
  {
   "cell_type": "code",
   "execution_count": 26,
   "id": "584d714a-b896-48ad-9308-d735745535de",
   "metadata": {},
   "outputs": [],
   "source": [
    "df['Processor_brand'] = df['Processor_brand'].apply(processor)"
   ]
  },
  {
   "cell_type": "code",
   "execution_count": 27,
   "id": "84ba651e-016c-473f-83ec-267a30fa7c04",
   "metadata": {},
   "outputs": [
    {
     "data": {
      "text/plain": [
       "<Axes: xlabel='Processor_brand'>"
      ]
     },
     "execution_count": 27,
     "metadata": {},
     "output_type": "execute_result"
    },
    {
     "data": {
      "image/png": "[encoded data removed]",
      "text/plain": [
       "<Figure size 640x480 with 1 Axes>"
      ]
     },
     "metadata": {},
     "output_type": "display_data"
    }
   ],
   "source": [
    "df['Processor_brand'].value_counts().plot(kind='bar')"
   ]
  },
  {
   "cell_type": "code",
   "execution_count": 28,
   "id": "e82080a8-a625-4962-a4a8-f453f8ed390c",
   "metadata": {},
   "outputs": [
    {
     "data": {
      "text/plain": [
       "<Axes: xlabel='Processor_brand', ylabel='Price'>"
      ]
     },
     "execution_count": 28,
     "metadata": {},
     "output_type": "execute_result"
    },
    {
     "data": {
      "image/png": "[encoded data removed]",
      "text/plain": [
       "<Figure size 640x480 with 1 Axes>"
      ]
     },
     "metadata": {},
     "output_type": "display_data"
    }
   ],
   "source": [
    "sns.barplot(x=df['Processor_brand'], y=df['Price'])"
   ]
  },
  {
   "cell_type": "code",
   "execution_count": 29,
   "id": "970e679f-c007-4f41-b817-729c9d101372",
   "metadata": {},
   "outputs": [
    {
     "data": {
      "text/plain": [
       "Processor_name\n",
       "Intel Core i5                   322\n",
       "Intel Core i7                   158\n",
       "AMD Ryzen 5                     119\n",
       "Intel Core i3                   114\n",
       "AMD Ryzen 7                      87\n",
       "Intel Core Ultra                 44\n",
       "Intel Core i9                    39\n",
       "Intel Celeron                    36\n",
       "AMD Ryzen 3                      31\n",
       "Apple M3                          7\n",
       "AMD Ryzen 9                       7\n",
       "Intel Core 5                      4\n",
       "AMD Athlon                        4\n",
       "Apple M2                          3\n",
       "Intel Core 7                      3\n",
       "Apple M3 Pro                      3\n",
       "MediaTek                          3\n",
       "MediaTek Kompanio                 3\n",
       "Apple M2 Apple M2 Chip            2\n",
       "Intel Pentium Silver              2\n",
       "Intel                             2\n",
       "Intel Atom Quad                   1\n",
       "Apple M1                          1\n",
       "eration Intel Core                1\n",
       "Intel Core 3                      1\n",
       "Intel Pentium Gold                1\n",
       "Qualcomm X Elite                  1\n",
       "AMD Athlon Silver                 1\n",
       "Mediatek                          1\n",
       "AMD Athlon Pro                    1\n",
       "Intel Core I3-1115G4              1\n",
       "Apple M3 Max                      1\n",
       "Microsoft SQ1 SQ1                 1\n",
       "Intel Pentium                     1\n",
       "HiSilicon  Kirin 9006C 9006C      1\n",
       "Intel Celeron Dual                1\n",
       "Name: count, dtype: int64"
      ]
     },
     "execution_count": 29,
     "metadata": {},
     "output_type": "execute_result"
    }
   ],
   "source": [
    "df['Processor_name'].value_counts()"
   ]
  },
  {
   "cell_type": "code",
   "execution_count": 30,
   "id": "b45bfede-55ce-42c7-9590-3000f11fe212",
   "metadata": {},
   "outputs": [],
   "source": [
    "def p_name(text):\n",
    "    \n",
    "    if text == 'Intel Core i3' or text == 'Intel Core i5' or text == 'Intel Core i7' or text == 'Intel Core i9' or text == 'AMD Ryzen 3' or text == 'AMD Ryzen 5' or text == 'AMD Ryzen 7' or text == 'AMD Ryzen 9' or text == 'Intel Core Ultra':\n",
    "        return text\n",
    "    else:\n",
    "        if text =='Apple M1' or text =='Apple M2' or text =='Apple M3' or text =='Apple M3 Pro' or text =='Apple M3 Max' :\n",
    "            return text\n",
    "        else:\n",
    "            return 'Other'"
   ]
  },
  {
   "cell_type": "code",
   "execution_count": 31,
   "id": "e3803883-89b1-4412-bdb5-243afa095dca",
   "metadata": {},
   "outputs": [],
   "source": [
    "df['Processor_name'] = df['Processor_name'].apply(p_name)"
   ]
  },
  {
   "cell_type": "code",
   "execution_count": 32,
   "id": "f133a395-960a-41ce-807b-cf570a3658b5",
   "metadata": {},
   "outputs": [
    {
     "data": {
      "image/png": "[encoded data removed]",
      "text/plain": [
       "<Figure size 640x480 with 1 Axes>"
      ]
     },
     "metadata": {},
     "output_type": "display_data"
    }
   ],
   "source": [
    "sns.barplot(x=df['Processor_name'], y=df['Price'])\n",
    "plt.xticks(rotation='vertical')\n",
    "plt.show()"
   ]
  },
  {
   "cell_type": "code",
   "execution_count": 33,
   "id": "2d283ecb-fb58-4b3b-846b-d490a1f48771",
   "metadata": {},
   "outputs": [
    {
     "data": {
      "text/html": [
       "<div>\n",
       "<style scoped>\n",
       "    .dataframe tbody tr th:only-of-type {\n",
       "        vertical-align: middle;\n",
       "    }\n",
       "\n",
       "    .dataframe tbody tr th {\n",
       "        vertical-align: top;\n",
       "    }\n",
       "\n",
       "    .dataframe thead th {\n",
       "        text-align: right;\n",
       "    }\n",
       "</style>\n",
       "<table border=\"1\" class=\"dataframe\">\n",
       "  <thead>\n",
       "    <tr style=\"text-align: right;\">\n",
       "      <th></th>\n",
       "      <th>index</th>\n",
       "      <th>Name</th>\n",
       "      <th>Brand</th>\n",
       "      <th>Price</th>\n",
       "      <th>Processor_brand</th>\n",
       "      <th>Processor_name</th>\n",
       "      <th>RAM_GB</th>\n",
       "      <th>Storage_capacity_GB</th>\n",
       "      <th>Storage_type</th>\n",
       "      <th>Graphics_name</th>\n",
       "      <th>Graphics_brand</th>\n",
       "      <th>Display_size_inches</th>\n",
       "      <th>Horizontal_pixel</th>\n",
       "      <th>Vertical_pixel</th>\n",
       "      <th>ppi</th>\n",
       "      <th>Touch_screen</th>\n",
       "      <th>Operating_system</th>\n",
       "    </tr>\n",
       "  </thead>\n",
       "  <tbody>\n",
       "    <tr>\n",
       "      <th>0</th>\n",
       "      <td>0</td>\n",
       "      <td>HP Victus 15-fb0157AX Gaming Laptop (AMD Ryzen...</td>\n",
       "      <td>HP</td>\n",
       "      <td>50399</td>\n",
       "      <td>AMD</td>\n",
       "      <td>AMD Ryzen 5</td>\n",
       "      <td>8</td>\n",
       "      <td>512</td>\n",
       "      <td>SSD</td>\n",
       "      <td>AMD Radeon RX 6500M</td>\n",
       "      <td>AMD</td>\n",
       "      <td>15.6</td>\n",
       "      <td>1920</td>\n",
       "      <td>1080</td>\n",
       "      <td>141.21</td>\n",
       "      <td>True</td>\n",
       "      <td>Windows 11 OS</td>\n",
       "    </tr>\n",
       "    <tr>\n",
       "      <th>1</th>\n",
       "      <td>1</td>\n",
       "      <td>Lenovo V15 G4 ‎82YU00W7IN Laptop (AMD Ryzen 3 ...</td>\n",
       "      <td>Lenovo</td>\n",
       "      <td>26690</td>\n",
       "      <td>AMD</td>\n",
       "      <td>AMD Ryzen 3</td>\n",
       "      <td>8</td>\n",
       "      <td>512</td>\n",
       "      <td>SSD</td>\n",
       "      <td>AMD Radeon Graphics</td>\n",
       "      <td>AMD</td>\n",
       "      <td>15.6</td>\n",
       "      <td>1920</td>\n",
       "      <td>1080</td>\n",
       "      <td>141.21</td>\n",
       "      <td>False</td>\n",
       "      <td>Windows 11 OS</td>\n",
       "    </tr>\n",
       "  </tbody>\n",
       "</table>\n",
       "</div>"
      ],
      "text/plain": [
       "   index                                               Name   Brand  Price  \\\n",
       "0      0  HP Victus 15-fb0157AX Gaming Laptop (AMD Ryzen...      HP  50399   \n",
       "1      1  Lenovo V15 G4 ‎82YU00W7IN Laptop (AMD Ryzen 3 ...  Lenovo  26690   \n",
       "\n",
       "  Processor_brand Processor_name  RAM_GB  Storage_capacity_GB Storage_type  \\\n",
       "0             AMD    AMD Ryzen 5       8                  512          SSD   \n",
       "1             AMD    AMD Ryzen 3       8                  512          SSD   \n",
       "\n",
       "         Graphics_name Graphics_brand  Display_size_inches  Horizontal_pixel  \\\n",
       "0  AMD Radeon RX 6500M            AMD                 15.6              1920   \n",
       "1  AMD Radeon Graphics            AMD                 15.6              1920   \n",
       "\n",
       "   Vertical_pixel     ppi  Touch_screen Operating_system  \n",
       "0            1080  141.21          True    Windows 11 OS  \n",
       "1            1080  141.21         False    Windows 11 OS  "
      ]
     },
     "execution_count": 33,
     "metadata": {},
     "output_type": "execute_result"
    }
   ],
   "source": [
    "df.head(2)"
   ]
  },
  {
   "cell_type": "code",
   "execution_count": 34,
   "id": "27e38636-21c0-4f69-9045-637d3f5baf6d",
   "metadata": {},
   "outputs": [
    {
     "data": {
      "text/html": [
       "<div>\n",
       "<style scoped>\n",
       "    .dataframe tbody tr th:only-of-type {\n",
       "        vertical-align: middle;\n",
       "    }\n",
       "\n",
       "    .dataframe tbody tr th {\n",
       "        vertical-align: top;\n",
       "    }\n",
       "\n",
       "    .dataframe thead th {\n",
       "        text-align: right;\n",
       "    }\n",
       "</style>\n",
       "<table border=\"1\" class=\"dataframe\">\n",
       "  <thead>\n",
       "    <tr style=\"text-align: right;\">\n",
       "      <th></th>\n",
       "      <th>index</th>\n",
       "      <th>Name</th>\n",
       "      <th>Brand</th>\n",
       "      <th>Price</th>\n",
       "      <th>Processor_brand</th>\n",
       "      <th>Processor_name</th>\n",
       "      <th>RAM_GB</th>\n",
       "      <th>Storage_capacity_GB</th>\n",
       "      <th>Storage_type</th>\n",
       "      <th>Graphics_name</th>\n",
       "      <th>Graphics_brand</th>\n",
       "      <th>Display_size_inches</th>\n",
       "      <th>Horizontal_pixel</th>\n",
       "      <th>Vertical_pixel</th>\n",
       "      <th>ppi</th>\n",
       "      <th>Touch_screen</th>\n",
       "      <th>Operating_system</th>\n",
       "    </tr>\n",
       "  </thead>\n",
       "  <tbody>\n",
       "    <tr>\n",
       "      <th>13</th>\n",
       "      <td>13</td>\n",
       "      <td>Apple MacBook Air 2020 MGND3HN Laptop (Apple M...</td>\n",
       "      <td>Apple</td>\n",
       "      <td>76990</td>\n",
       "      <td>Apple</td>\n",
       "      <td>Apple M1</td>\n",
       "      <td>8</td>\n",
       "      <td>256</td>\n",
       "      <td>SSD</td>\n",
       "      <td>Apple M1 Integrated Graphics</td>\n",
       "      <td>Apple</td>\n",
       "      <td>13.3</td>\n",
       "      <td>2560</td>\n",
       "      <td>1600</td>\n",
       "      <td>226.98</td>\n",
       "      <td>False</td>\n",
       "      <td>Mac OS</td>\n",
       "    </tr>\n",
       "    <tr>\n",
       "      <th>17</th>\n",
       "      <td>17</td>\n",
       "      <td>Apple MacBook Air 2024 Laptop (Apple M3/ 8GB/ ...</td>\n",
       "      <td>Apple</td>\n",
       "      <td>114900</td>\n",
       "      <td>Apple</td>\n",
       "      <td>Apple M3</td>\n",
       "      <td>8</td>\n",
       "      <td>256</td>\n",
       "      <td>SSD</td>\n",
       "      <td>Apple 8 Core GPU</td>\n",
       "      <td>Apple</td>\n",
       "      <td>13.6</td>\n",
       "      <td>2560</td>\n",
       "      <td>1664</td>\n",
       "      <td>224.51</td>\n",
       "      <td>False</td>\n",
       "      <td>Mac OS</td>\n",
       "    </tr>\n",
       "    <tr>\n",
       "      <th>23</th>\n",
       "      <td>23</td>\n",
       "      <td>Apple MacBook Air 2022 Laptop (Apple M2/ 8GB/ ...</td>\n",
       "      <td>Apple</td>\n",
       "      <td>99900</td>\n",
       "      <td>Apple</td>\n",
       "      <td>Apple M2</td>\n",
       "      <td>8</td>\n",
       "      <td>256</td>\n",
       "      <td>SSD</td>\n",
       "      <td>8-Core GPU</td>\n",
       "      <td>Apple</td>\n",
       "      <td>13.6</td>\n",
       "      <td>2560</td>\n",
       "      <td>1664</td>\n",
       "      <td>224.51</td>\n",
       "      <td>False</td>\n",
       "      <td>Mac OS</td>\n",
       "    </tr>\n",
       "    <tr>\n",
       "      <th>73</th>\n",
       "      <td>73</td>\n",
       "      <td>Apple MacBook Air 2024 MRYN3HN/A Laptop (Apple...</td>\n",
       "      <td>Apple</td>\n",
       "      <td>154900</td>\n",
       "      <td>Apple</td>\n",
       "      <td>Apple M3</td>\n",
       "      <td>8</td>\n",
       "      <td>512</td>\n",
       "      <td>SSD</td>\n",
       "      <td>10-Core GPU</td>\n",
       "      <td>Apple</td>\n",
       "      <td>15.3</td>\n",
       "      <td>2880</td>\n",
       "      <td>1864</td>\n",
       "      <td>224.22</td>\n",
       "      <td>False</td>\n",
       "      <td>Mac OS</td>\n",
       "    </tr>\n",
       "    <tr>\n",
       "      <th>98</th>\n",
       "      <td>100</td>\n",
       "      <td>Apple MacBook Air 15 2024 MRYR3HN/A Laptop (Ap...</td>\n",
       "      <td>Apple</td>\n",
       "      <td>133553</td>\n",
       "      <td>Apple</td>\n",
       "      <td>Apple M3</td>\n",
       "      <td>8</td>\n",
       "      <td>256</td>\n",
       "      <td>SSD</td>\n",
       "      <td>10-Core GPU</td>\n",
       "      <td>Apple</td>\n",
       "      <td>15.3</td>\n",
       "      <td>2880</td>\n",
       "      <td>1864</td>\n",
       "      <td>224.22</td>\n",
       "      <td>False</td>\n",
       "      <td>Mac OS</td>\n",
       "    </tr>\n",
       "    <tr>\n",
       "      <th>114</th>\n",
       "      <td>116</td>\n",
       "      <td>Apple MacBook Pro 14 2023 Laptop (Apple M3 Pro...</td>\n",
       "      <td>Apple</td>\n",
       "      <td>186899</td>\n",
       "      <td>Apple</td>\n",
       "      <td>Apple M3 Pro</td>\n",
       "      <td>18</td>\n",
       "      <td>512</td>\n",
       "      <td>SSD</td>\n",
       "      <td>14 Core GPU</td>\n",
       "      <td>Apple</td>\n",
       "      <td>14.2</td>\n",
       "      <td>3024</td>\n",
       "      <td>1964</td>\n",
       "      <td>253.93</td>\n",
       "      <td>False</td>\n",
       "      <td>Mac OS</td>\n",
       "    </tr>\n",
       "    <tr>\n",
       "      <th>135</th>\n",
       "      <td>138</td>\n",
       "      <td>Apple MacBook Air 2022 Laptop (Apple M2/ 8GB/ ...</td>\n",
       "      <td>Apple</td>\n",
       "      <td>119900</td>\n",
       "      <td>Apple</td>\n",
       "      <td>Other</td>\n",
       "      <td>8</td>\n",
       "      <td>512</td>\n",
       "      <td>SSD</td>\n",
       "      <td>10-Core GPU</td>\n",
       "      <td>Apple</td>\n",
       "      <td>13.6</td>\n",
       "      <td>2560</td>\n",
       "      <td>1664</td>\n",
       "      <td>224.51</td>\n",
       "      <td>False</td>\n",
       "      <td>Mac OS</td>\n",
       "    </tr>\n",
       "    <tr>\n",
       "      <th>160</th>\n",
       "      <td>163</td>\n",
       "      <td>Apple MacBook Pro 14 2023 Laptop (Apple M3/ 8G...</td>\n",
       "      <td>Apple</td>\n",
       "      <td>154990</td>\n",
       "      <td>Apple</td>\n",
       "      <td>Apple M3</td>\n",
       "      <td>8</td>\n",
       "      <td>512</td>\n",
       "      <td>SSD</td>\n",
       "      <td>10 Core GPU</td>\n",
       "      <td>Apple</td>\n",
       "      <td>14.2</td>\n",
       "      <td>3024</td>\n",
       "      <td>1964</td>\n",
       "      <td>253.93</td>\n",
       "      <td>False</td>\n",
       "      <td>Mac OS</td>\n",
       "    </tr>\n",
       "    <tr>\n",
       "      <th>199</th>\n",
       "      <td>202</td>\n",
       "      <td>Apple MacBook Air 2024 MRXW3HN/A Laptop (Apple...</td>\n",
       "      <td>Apple</td>\n",
       "      <td>134900</td>\n",
       "      <td>Apple</td>\n",
       "      <td>Apple M3</td>\n",
       "      <td>8</td>\n",
       "      <td>512</td>\n",
       "      <td>SSD</td>\n",
       "      <td>Apple 10 Core GPU</td>\n",
       "      <td>Apple</td>\n",
       "      <td>13.6</td>\n",
       "      <td>2560</td>\n",
       "      <td>1664</td>\n",
       "      <td>224.51</td>\n",
       "      <td>False</td>\n",
       "      <td>Mac OS</td>\n",
       "    </tr>\n",
       "    <tr>\n",
       "      <th>200</th>\n",
       "      <td>203</td>\n",
       "      <td>Apple MacBook Air 15 2024 Laptop (Apple M3/ 16...</td>\n",
       "      <td>Apple</td>\n",
       "      <td>174900</td>\n",
       "      <td>Apple</td>\n",
       "      <td>Apple M3</td>\n",
       "      <td>16</td>\n",
       "      <td>512</td>\n",
       "      <td>SSD</td>\n",
       "      <td>10-Core GPU</td>\n",
       "      <td>Apple</td>\n",
       "      <td>15.3</td>\n",
       "      <td>2880</td>\n",
       "      <td>1864</td>\n",
       "      <td>224.22</td>\n",
       "      <td>False</td>\n",
       "      <td>Mac OS</td>\n",
       "    </tr>\n",
       "    <tr>\n",
       "      <th>258</th>\n",
       "      <td>261</td>\n",
       "      <td>Apple MacBook Air 15 2023 Laptop (Apple M2/ 8G...</td>\n",
       "      <td>Apple</td>\n",
       "      <td>131590</td>\n",
       "      <td>Apple</td>\n",
       "      <td>Apple M2</td>\n",
       "      <td>8</td>\n",
       "      <td>512</td>\n",
       "      <td>SSD</td>\n",
       "      <td>10-Core GPU</td>\n",
       "      <td>Apple</td>\n",
       "      <td>15.3</td>\n",
       "      <td>2880</td>\n",
       "      <td>1864</td>\n",
       "      <td>224.22</td>\n",
       "      <td>False</td>\n",
       "      <td>Mac OS</td>\n",
       "    </tr>\n",
       "    <tr>\n",
       "      <th>268</th>\n",
       "      <td>271</td>\n",
       "      <td>Apple MacBook Air 15 2023 Laptop (Apple M2/ 8G...</td>\n",
       "      <td>Apple</td>\n",
       "      <td>113690</td>\n",
       "      <td>Apple</td>\n",
       "      <td>Apple M2</td>\n",
       "      <td>8</td>\n",
       "      <td>256</td>\n",
       "      <td>SSD</td>\n",
       "      <td>10-Core GPU</td>\n",
       "      <td>Apple</td>\n",
       "      <td>15.3</td>\n",
       "      <td>2880</td>\n",
       "      <td>1864</td>\n",
       "      <td>224.22</td>\n",
       "      <td>False</td>\n",
       "      <td>Mac OS</td>\n",
       "    </tr>\n",
       "    <tr>\n",
       "      <th>291</th>\n",
       "      <td>294</td>\n",
       "      <td>Apple MacBook Pro 2022 Laptop (Apple M2/ 8GB/ ...</td>\n",
       "      <td>Apple</td>\n",
       "      <td>119990</td>\n",
       "      <td>Apple</td>\n",
       "      <td>Other</td>\n",
       "      <td>8</td>\n",
       "      <td>256</td>\n",
       "      <td>SSD</td>\n",
       "      <td>10 Core GPU</td>\n",
       "      <td>Apple</td>\n",
       "      <td>13.3</td>\n",
       "      <td>2560</td>\n",
       "      <td>1600</td>\n",
       "      <td>226.98</td>\n",
       "      <td>False</td>\n",
       "      <td>Mac OS</td>\n",
       "    </tr>\n",
       "    <tr>\n",
       "      <th>344</th>\n",
       "      <td>347</td>\n",
       "      <td>Apple MacBook Pro 16 2023 Laptop (Apple M3 Pro...</td>\n",
       "      <td>Apple</td>\n",
       "      <td>230590</td>\n",
       "      <td>Apple</td>\n",
       "      <td>Apple M3 Pro</td>\n",
       "      <td>18</td>\n",
       "      <td>512</td>\n",
       "      <td>SSD</td>\n",
       "      <td>18 Core GPU</td>\n",
       "      <td>Apple</td>\n",
       "      <td>16.2</td>\n",
       "      <td>3456</td>\n",
       "      <td>2234</td>\n",
       "      <td>254.02</td>\n",
       "      <td>False</td>\n",
       "      <td>Mac OS</td>\n",
       "    </tr>\n",
       "    <tr>\n",
       "      <th>345</th>\n",
       "      <td>348</td>\n",
       "      <td>Apple MacBook Pro 14 2023 Laptop (Apple M3/ 8G...</td>\n",
       "      <td>Apple</td>\n",
       "      <td>176490</td>\n",
       "      <td>Apple</td>\n",
       "      <td>Apple M3</td>\n",
       "      <td>8</td>\n",
       "      <td>1000</td>\n",
       "      <td>SSD</td>\n",
       "      <td>10 Core GPU</td>\n",
       "      <td>Apple</td>\n",
       "      <td>14.2</td>\n",
       "      <td>3024</td>\n",
       "      <td>1964</td>\n",
       "      <td>253.93</td>\n",
       "      <td>False</td>\n",
       "      <td>Mac OS</td>\n",
       "    </tr>\n",
       "    <tr>\n",
       "      <th>346</th>\n",
       "      <td>349</td>\n",
       "      <td>Apple MacBook Pro 14 2023 Laptop (Apple M3 Max...</td>\n",
       "      <td>Apple</td>\n",
       "      <td>289690</td>\n",
       "      <td>Apple</td>\n",
       "      <td>Apple M3 Max</td>\n",
       "      <td>36</td>\n",
       "      <td>1000</td>\n",
       "      <td>SSD</td>\n",
       "      <td>30 Core GPU</td>\n",
       "      <td>Apple</td>\n",
       "      <td>14.2</td>\n",
       "      <td>3024</td>\n",
       "      <td>1964</td>\n",
       "      <td>253.93</td>\n",
       "      <td>False</td>\n",
       "      <td>Mac OS</td>\n",
       "    </tr>\n",
       "    <tr>\n",
       "      <th>347</th>\n",
       "      <td>350</td>\n",
       "      <td>Apple MacBook Pro 14 2023 Laptop (Apple M3 Pro...</td>\n",
       "      <td>Apple</td>\n",
       "      <td>224990</td>\n",
       "      <td>Apple</td>\n",
       "      <td>Apple M3 Pro</td>\n",
       "      <td>18</td>\n",
       "      <td>1000</td>\n",
       "      <td>SSD</td>\n",
       "      <td>18 Core GPU</td>\n",
       "      <td>Apple</td>\n",
       "      <td>14.2</td>\n",
       "      <td>3024</td>\n",
       "      <td>1964</td>\n",
       "      <td>253.93</td>\n",
       "      <td>False</td>\n",
       "      <td>Mac OS</td>\n",
       "    </tr>\n",
       "    <tr>\n",
       "      <th>581</th>\n",
       "      <td>585</td>\n",
       "      <td>Apple MacBook Air 2020 Laptop (10th Gen Core i...</td>\n",
       "      <td>Apple</td>\n",
       "      <td>109999</td>\n",
       "      <td>Intel</td>\n",
       "      <td>Intel Core i7</td>\n",
       "      <td>8</td>\n",
       "      <td>512</td>\n",
       "      <td>SSD</td>\n",
       "      <td>Intel Iris Plus</td>\n",
       "      <td>Intel</td>\n",
       "      <td>13.3</td>\n",
       "      <td>2560</td>\n",
       "      <td>1600</td>\n",
       "      <td>226.98</td>\n",
       "      <td>False</td>\n",
       "      <td>Mac 10.15.3\\t OS</td>\n",
       "    </tr>\n",
       "    <tr>\n",
       "      <th>583</th>\n",
       "      <td>587</td>\n",
       "      <td>Apple MacBook Pro 16 Laptop (9th Gen Core i9/ ...</td>\n",
       "      <td>Apple</td>\n",
       "      <td>201498</td>\n",
       "      <td>Intel</td>\n",
       "      <td>Intel Core i9</td>\n",
       "      <td>32</td>\n",
       "      <td>2000</td>\n",
       "      <td>SSD</td>\n",
       "      <td>Radeon Pro 5500M</td>\n",
       "      <td>Radeon</td>\n",
       "      <td>16.0</td>\n",
       "      <td>3072</td>\n",
       "      <td>1920</td>\n",
       "      <td>226.42</td>\n",
       "      <td>False</td>\n",
       "      <td>Mac Catalina OS</td>\n",
       "    </tr>\n",
       "  </tbody>\n",
       "</table>\n",
       "</div>"
      ],
      "text/plain": [
       "     index                                               Name  Brand   Price  \\\n",
       "13      13  Apple MacBook Air 2020 MGND3HN Laptop (Apple M...  Apple   76990   \n",
       "17      17  Apple MacBook Air 2024 Laptop (Apple M3/ 8GB/ ...  Apple  114900   \n",
       "23      23  Apple MacBook Air 2022 Laptop (Apple M2/ 8GB/ ...  Apple   99900   \n",
       "73      73  Apple MacBook Air 2024 MRYN3HN/A Laptop (Apple...  Apple  154900   \n",
       "98     100  Apple MacBook Air 15 2024 MRYR3HN/A Laptop (Ap...  Apple  133553   \n",
       "114    116  Apple MacBook Pro 14 2023 Laptop (Apple M3 Pro...  Apple  186899   \n",
       "135    138  Apple MacBook Air 2022 Laptop (Apple M2/ 8GB/ ...  Apple  119900   \n",
       "160    163  Apple MacBook Pro 14 2023 Laptop (Apple M3/ 8G...  Apple  154990   \n",
       "199    202  Apple MacBook Air 2024 MRXW3HN/A Laptop (Apple...  Apple  134900   \n",
       "200    203  Apple MacBook Air 15 2024 Laptop (Apple M3/ 16...  Apple  174900   \n",
       "258    261  Apple MacBook Air 15 2023 Laptop (Apple M2/ 8G...  Apple  131590   \n",
       "268    271  Apple MacBook Air 15 2023 Laptop (Apple M2/ 8G...  Apple  113690   \n",
       "291    294  Apple MacBook Pro 2022 Laptop (Apple M2/ 8GB/ ...  Apple  119990   \n",
       "344    347  Apple MacBook Pro 16 2023 Laptop (Apple M3 Pro...  Apple  230590   \n",
       "345    348  Apple MacBook Pro 14 2023 Laptop (Apple M3/ 8G...  Apple  176490   \n",
       "346    349  Apple MacBook Pro 14 2023 Laptop (Apple M3 Max...  Apple  289690   \n",
       "347    350  Apple MacBook Pro 14 2023 Laptop (Apple M3 Pro...  Apple  224990   \n",
       "581    585  Apple MacBook Air 2020 Laptop (10th Gen Core i...  Apple  109999   \n",
       "583    587  Apple MacBook Pro 16 Laptop (9th Gen Core i9/ ...  Apple  201498   \n",
       "\n",
       "    Processor_brand Processor_name  RAM_GB  Storage_capacity_GB Storage_type  \\\n",
       "13            Apple       Apple M1       8                  256          SSD   \n",
       "17            Apple       Apple M3       8                  256          SSD   \n",
       "23            Apple       Apple M2       8                  256          SSD   \n",
       "73            Apple       Apple M3       8                  512          SSD   \n",
       "98            Apple       Apple M3       8                  256          SSD   \n",
       "114           Apple   Apple M3 Pro      18                  512          SSD   \n",
       "135           Apple          Other       8                  512          SSD   \n",
       "160           Apple       Apple M3       8                  512          SSD   \n",
       "199           Apple       Apple M3       8                  512          SSD   \n",
       "200           Apple       Apple M3      16                  512          SSD   \n",
       "258           Apple       Apple M2       8                  512          SSD   \n",
       "268           Apple       Apple M2       8                  256          SSD   \n",
       "291           Apple          Other       8                  256          SSD   \n",
       "344           Apple   Apple M3 Pro      18                  512          SSD   \n",
       "345           Apple       Apple M3       8                 1000          SSD   \n",
       "346           Apple   Apple M3 Max      36                 1000          SSD   \n",
       "347           Apple   Apple M3 Pro      18                 1000          SSD   \n",
       "581           Intel  Intel Core i7       8                  512          SSD   \n",
       "583           Intel  Intel Core i9      32                 2000          SSD   \n",
       "\n",
       "                    Graphics_name Graphics_brand  Display_size_inches  \\\n",
       "13   Apple M1 Integrated Graphics          Apple                 13.3   \n",
       "17               Apple 8 Core GPU          Apple                 13.6   \n",
       "23                     8-Core GPU          Apple                 13.6   \n",
       "73                    10-Core GPU          Apple                 15.3   \n",
       "98                    10-Core GPU          Apple                 15.3   \n",
       "114                   14 Core GPU          Apple                 14.2   \n",
       "135                   10-Core GPU          Apple                 13.6   \n",
       "160                   10 Core GPU          Apple                 14.2   \n",
       "199             Apple 10 Core GPU          Apple                 13.6   \n",
       "200                   10-Core GPU          Apple                 15.3   \n",
       "258                   10-Core GPU          Apple                 15.3   \n",
       "268                   10-Core GPU          Apple                 15.3   \n",
       "291                   10 Core GPU          Apple                 13.3   \n",
       "344                   18 Core GPU          Apple                 16.2   \n",
       "345                   10 Core GPU          Apple                 14.2   \n",
       "346                   30 Core GPU          Apple                 14.2   \n",
       "347                   18 Core GPU          Apple                 14.2   \n",
       "581               Intel Iris Plus          Intel                 13.3   \n",
       "583              Radeon Pro 5500M         Radeon                 16.0   \n",
       "\n",
       "     Horizontal_pixel  Vertical_pixel     ppi  Touch_screen  Operating_system  \n",
       "13               2560            1600  226.98         False            Mac OS  \n",
       "17               2560            1664  224.51         False            Mac OS  \n",
       "23               2560            1664  224.51         False            Mac OS  \n",
       "73               2880            1864  224.22         False            Mac OS  \n",
       "98               2880            1864  224.22         False            Mac OS  \n",
       "114              3024            1964  253.93         False            Mac OS  \n",
       "135              2560            1664  224.51         False            Mac OS  \n",
       "160              3024            1964  253.93         False            Mac OS  \n",
       "199              2560            1664  224.51         False            Mac OS  \n",
       "200              2880            1864  224.22         False            Mac OS  \n",
       "258              2880            1864  224.22         False            Mac OS  \n",
       "268              2880            1864  224.22         False            Mac OS  \n",
       "291              2560            1600  226.98         False            Mac OS  \n",
       "344              3456            2234  254.02         False            Mac OS  \n",
       "345              3024            1964  253.93         False            Mac OS  \n",
       "346              3024            1964  253.93         False            Mac OS  \n",
       "347              3024            1964  253.93         False            Mac OS  \n",
       "581              2560            1600  226.98         False  Mac 10.15.3\\t OS  \n",
       "583              3072            1920  226.42         False   Mac Catalina OS  "
      ]
     },
     "execution_count": 34,
     "metadata": {},
     "output_type": "execute_result"
    }
   ],
   "source": [
    "df[df['Brand'].apply(lambda x: x.split()[0]=='Apple')]"
   ]
  },
  {
   "cell_type": "code",
   "execution_count": 35,
   "id": "e9a97462-687a-4c3d-bf36-a92ef5dda239",
   "metadata": {},
   "outputs": [
    {
     "data": {
      "image/png": "[encoded data removed]",
      "text/plain": [
       "<Figure size 640x480 with 1 Axes>"
      ]
     },
     "metadata": {},
     "output_type": "display_data"
    }
   ],
   "source": [
    "sns.barplot(x=df['RAM_GB'], y=df['Price'])\n",
    "plt.xticks(rotation='vertical')\n",
    "plt.show()"
   ]
  },
  {
   "cell_type": "code",
   "execution_count": 36,
   "id": "344e6ec9-1c73-49b2-8e8a-43f66fcdeebf",
   "metadata": {},
   "outputs": [
    {
     "data": {
      "text/html": [
       "<div>\n",
       "<style scoped>\n",
       "    .dataframe tbody tr th:only-of-type {\n",
       "        vertical-align: middle;\n",
       "    }\n",
       "\n",
       "    .dataframe tbody tr th {\n",
       "        vertical-align: top;\n",
       "    }\n",
       "\n",
       "    .dataframe thead th {\n",
       "        text-align: right;\n",
       "    }\n",
       "</style>\n",
       "<table border=\"1\" class=\"dataframe\">\n",
       "  <thead>\n",
       "    <tr style=\"text-align: right;\">\n",
       "      <th></th>\n",
       "      <th>index</th>\n",
       "      <th>Name</th>\n",
       "      <th>Brand</th>\n",
       "      <th>Price</th>\n",
       "      <th>Processor_brand</th>\n",
       "      <th>Processor_name</th>\n",
       "      <th>RAM_GB</th>\n",
       "      <th>Storage_capacity_GB</th>\n",
       "      <th>Storage_type</th>\n",
       "      <th>Graphics_name</th>\n",
       "      <th>Graphics_brand</th>\n",
       "      <th>Display_size_inches</th>\n",
       "      <th>Horizontal_pixel</th>\n",
       "      <th>Vertical_pixel</th>\n",
       "      <th>ppi</th>\n",
       "      <th>Touch_screen</th>\n",
       "      <th>Operating_system</th>\n",
       "    </tr>\n",
       "  </thead>\n",
       "  <tbody>\n",
       "    <tr>\n",
       "      <th>0</th>\n",
       "      <td>0</td>\n",
       "      <td>HP Victus 15-fb0157AX Gaming Laptop (AMD Ryzen...</td>\n",
       "      <td>HP</td>\n",
       "      <td>50399</td>\n",
       "      <td>AMD</td>\n",
       "      <td>AMD Ryzen 5</td>\n",
       "      <td>8</td>\n",
       "      <td>512</td>\n",
       "      <td>SSD</td>\n",
       "      <td>AMD Radeon RX 6500M</td>\n",
       "      <td>AMD</td>\n",
       "      <td>15.6</td>\n",
       "      <td>1920</td>\n",
       "      <td>1080</td>\n",
       "      <td>141.21</td>\n",
       "      <td>True</td>\n",
       "      <td>Windows 11 OS</td>\n",
       "    </tr>\n",
       "    <tr>\n",
       "      <th>1</th>\n",
       "      <td>1</td>\n",
       "      <td>Lenovo V15 G4 ‎82YU00W7IN Laptop (AMD Ryzen 3 ...</td>\n",
       "      <td>Lenovo</td>\n",
       "      <td>26690</td>\n",
       "      <td>AMD</td>\n",
       "      <td>AMD Ryzen 3</td>\n",
       "      <td>8</td>\n",
       "      <td>512</td>\n",
       "      <td>SSD</td>\n",
       "      <td>AMD Radeon Graphics</td>\n",
       "      <td>AMD</td>\n",
       "      <td>15.6</td>\n",
       "      <td>1920</td>\n",
       "      <td>1080</td>\n",
       "      <td>141.21</td>\n",
       "      <td>False</td>\n",
       "      <td>Windows 11 OS</td>\n",
       "    </tr>\n",
       "    <tr>\n",
       "      <th>2</th>\n",
       "      <td>2</td>\n",
       "      <td>HP 15s-fq5007TU Laptop (12th Gen Core i3/ 8GB/...</td>\n",
       "      <td>HP</td>\n",
       "      <td>37012</td>\n",
       "      <td>Intel</td>\n",
       "      <td>Intel Core i3</td>\n",
       "      <td>8</td>\n",
       "      <td>512</td>\n",
       "      <td>SSD</td>\n",
       "      <td>Intel UHD Graphics</td>\n",
       "      <td>Intel</td>\n",
       "      <td>15.6</td>\n",
       "      <td>1920</td>\n",
       "      <td>1080</td>\n",
       "      <td>141.21</td>\n",
       "      <td>False</td>\n",
       "      <td>Windows 11 OS</td>\n",
       "    </tr>\n",
       "    <tr>\n",
       "      <th>3</th>\n",
       "      <td>3</td>\n",
       "      <td>Samsung Galaxy Book2 Pro 13 Laptop (12th Gen C...</td>\n",
       "      <td>Samsung</td>\n",
       "      <td>69990</td>\n",
       "      <td>Intel</td>\n",
       "      <td>Intel Core i5</td>\n",
       "      <td>16</td>\n",
       "      <td>512</td>\n",
       "      <td>SSD</td>\n",
       "      <td>Intel Iris Xe Graphics</td>\n",
       "      <td>Intel</td>\n",
       "      <td>13.3</td>\n",
       "      <td>1080</td>\n",
       "      <td>1920</td>\n",
       "      <td>165.63</td>\n",
       "      <td>False</td>\n",
       "      <td>Windows 11 OS</td>\n",
       "    </tr>\n",
       "    <tr>\n",
       "      <th>4</th>\n",
       "      <td>4</td>\n",
       "      <td>Tecno Megabook T1 Laptop (11th Gen Core i3/ 8G...</td>\n",
       "      <td>Tecno</td>\n",
       "      <td>23990</td>\n",
       "      <td>Intel</td>\n",
       "      <td>Intel Core i3</td>\n",
       "      <td>8</td>\n",
       "      <td>512</td>\n",
       "      <td>SSD</td>\n",
       "      <td>Intel UHD Graphics</td>\n",
       "      <td>Intel</td>\n",
       "      <td>15.6</td>\n",
       "      <td>1920</td>\n",
       "      <td>1080</td>\n",
       "      <td>141.21</td>\n",
       "      <td>False</td>\n",
       "      <td>Windows 11 OS</td>\n",
       "    </tr>\n",
       "  </tbody>\n",
       "</table>\n",
       "</div>"
      ],
      "text/plain": [
       "   index                                               Name    Brand  Price  \\\n",
       "0      0  HP Victus 15-fb0157AX Gaming Laptop (AMD Ryzen...       HP  50399   \n",
       "1      1  Lenovo V15 G4 ‎82YU00W7IN Laptop (AMD Ryzen 3 ...   Lenovo  26690   \n",
       "2      2  HP 15s-fq5007TU Laptop (12th Gen Core i3/ 8GB/...       HP  37012   \n",
       "3      3  Samsung Galaxy Book2 Pro 13 Laptop (12th Gen C...  Samsung  69990   \n",
       "4      4  Tecno Megabook T1 Laptop (11th Gen Core i3/ 8G...    Tecno  23990   \n",
       "\n",
       "  Processor_brand Processor_name  RAM_GB  Storage_capacity_GB Storage_type  \\\n",
       "0             AMD    AMD Ryzen 5       8                  512          SSD   \n",
       "1             AMD    AMD Ryzen 3       8                  512          SSD   \n",
       "2           Intel  Intel Core i3       8                  512          SSD   \n",
       "3           Intel  Intel Core i5      16                  512          SSD   \n",
       "4           Intel  Intel Core i3       8                  512          SSD   \n",
       "\n",
       "            Graphics_name Graphics_brand  Display_size_inches  \\\n",
       "0     AMD Radeon RX 6500M            AMD                 15.6   \n",
       "1     AMD Radeon Graphics            AMD                 15.6   \n",
       "2      Intel UHD Graphics          Intel                 15.6   \n",
       "3  Intel Iris Xe Graphics          Intel                 13.3   \n",
       "4      Intel UHD Graphics          Intel                 15.6   \n",
       "\n",
       "   Horizontal_pixel  Vertical_pixel     ppi  Touch_screen Operating_system  \n",
       "0              1920            1080  141.21          True    Windows 11 OS  \n",
       "1              1920            1080  141.21         False    Windows 11 OS  \n",
       "2              1920            1080  141.21         False    Windows 11 OS  \n",
       "3              1080            1920  165.63         False    Windows 11 OS  \n",
       "4              1920            1080  141.21         False    Windows 11 OS  "
      ]
     },
     "execution_count": 36,
     "metadata": {},
     "output_type": "execute_result"
    }
   ],
   "source": [
    "df.head()"
   ]
  },
  {
   "cell_type": "code",
   "execution_count": 37,
   "id": "c202d2b5-1c03-4368-a488-4485521eb0bd",
   "metadata": {},
   "outputs": [
    {
     "data": {
      "text/plain": [
       "Storage_type\n",
       " SSD               987\n",
       " Hard Disk          14\n",
       "Hard Disk & SSD      6\n",
       " NVMe SSD            1\n",
       "Name: count, dtype: int64"
      ]
     },
     "execution_count": 37,
     "metadata": {},
     "output_type": "execute_result"
    }
   ],
   "source": [
    "df['Storage_type'].value_counts()"
   ]
  },
  {
   "cell_type": "code",
   "execution_count": 38,
   "id": "a6bd727f-2026-466b-ae76-af0cdb380bcb",
   "metadata": {},
   "outputs": [],
   "source": [
    "df = df[df['Storage_type'].apply(lambda x: x.split()[0]!='Hard')]"
   ]
  },
  {
   "cell_type": "code",
   "execution_count": 39,
   "id": "4cf300c2-67d4-41d5-9b4a-b746b668c1bf",
   "metadata": {},
   "outputs": [],
   "source": [
    "df = df[df['Storage_type'].apply(lambda x: x.split()[0]!='NVMe')]"
   ]
  },
  {
   "cell_type": "code",
   "execution_count": 40,
   "id": "9f787cca-af5f-4eed-ad65-a46cec71b196",
   "metadata": {},
   "outputs": [
    {
     "data": {
      "text/plain": [
       "Storage_type\n",
       "SSD    987\n",
       "Name: count, dtype: int64"
      ]
     },
     "execution_count": 40,
     "metadata": {},
     "output_type": "execute_result"
    }
   ],
   "source": [
    "df['Storage_type'].value_counts()"
   ]
  },
  {
   "cell_type": "code",
   "execution_count": 41,
   "id": "5a1ef42b-6240-496d-906a-c00161a0c891",
   "metadata": {},
   "outputs": [],
   "source": [
    "df.reset_index(drop=True, inplace=True)"
   ]
  },
  {
   "cell_type": "code",
   "execution_count": 42,
   "id": "cc0646eb-0817-45df-977a-0b8523a0988b",
   "metadata": {},
   "outputs": [],
   "source": [
    "df.drop(columns=['index'],axis=1,inplace=True)"
   ]
  },
  {
   "cell_type": "code",
   "execution_count": 43,
   "id": "627c9fcc-79f7-446e-a839-e05e7b538301",
   "metadata": {},
   "outputs": [
    {
     "name": "stdout",
     "output_type": "stream",
     "text": [
      "<class 'pandas.core.frame.DataFrame'>\n",
      "RangeIndex: 987 entries, 0 to 986\n",
      "Data columns (total 16 columns):\n",
      " #   Column               Non-Null Count  Dtype  \n",
      "---  ------               --------------  -----  \n",
      " 0   Name                 987 non-null    object \n",
      " 1   Brand                987 non-null    object \n",
      " 2   Price                987 non-null    int64  \n",
      " 3   Processor_brand      987 non-null    object \n",
      " 4   Processor_name       987 non-null    object \n",
      " 5   RAM_GB               987 non-null    int64  \n",
      " 6   Storage_capacity_GB  987 non-null    int64  \n",
      " 7   Storage_type         987 non-null    object \n",
      " 8   Graphics_name        985 non-null    object \n",
      " 9   Graphics_brand       985 non-null    object \n",
      " 10  Display_size_inches  987 non-null    float64\n",
      " 11  Horizontal_pixel     987 non-null    int64  \n",
      " 12  Vertical_pixel       987 non-null    int64  \n",
      " 13  ppi                  987 non-null    float64\n",
      " 14  Touch_screen         987 non-null    bool   \n",
      " 15  Operating_system     987 non-null    object \n",
      "dtypes: bool(1), float64(2), int64(5), object(8)\n",
      "memory usage: 116.8+ KB\n"
     ]
    }
   ],
   "source": [
    "df.info()"
   ]
  },
  {
   "cell_type": "code",
   "execution_count": 44,
   "id": "ed30fed5-5e43-4053-8e03-257db6796a35",
   "metadata": {},
   "outputs": [
    {
     "data": {
      "text/html": [
       "<div>\n",
       "<style scoped>\n",
       "    .dataframe tbody tr th:only-of-type {\n",
       "        vertical-align: middle;\n",
       "    }\n",
       "\n",
       "    .dataframe tbody tr th {\n",
       "        vertical-align: top;\n",
       "    }\n",
       "\n",
       "    .dataframe thead th {\n",
       "        text-align: right;\n",
       "    }\n",
       "</style>\n",
       "<table border=\"1\" class=\"dataframe\">\n",
       "  <thead>\n",
       "    <tr style=\"text-align: right;\">\n",
       "      <th></th>\n",
       "      <th>Name</th>\n",
       "      <th>Brand</th>\n",
       "      <th>Price</th>\n",
       "      <th>Processor_brand</th>\n",
       "      <th>Processor_name</th>\n",
       "      <th>RAM_GB</th>\n",
       "      <th>Storage_capacity_GB</th>\n",
       "      <th>Storage_type</th>\n",
       "      <th>Graphics_name</th>\n",
       "      <th>Graphics_brand</th>\n",
       "      <th>Display_size_inches</th>\n",
       "      <th>Horizontal_pixel</th>\n",
       "      <th>Vertical_pixel</th>\n",
       "      <th>ppi</th>\n",
       "      <th>Touch_screen</th>\n",
       "      <th>Operating_system</th>\n",
       "    </tr>\n",
       "  </thead>\n",
       "  <tbody>\n",
       "    <tr>\n",
       "      <th>0</th>\n",
       "      <td>HP Victus 15-fb0157AX Gaming Laptop (AMD Ryzen...</td>\n",
       "      <td>HP</td>\n",
       "      <td>50399</td>\n",
       "      <td>AMD</td>\n",
       "      <td>AMD Ryzen 5</td>\n",
       "      <td>8</td>\n",
       "      <td>512</td>\n",
       "      <td>SSD</td>\n",
       "      <td>AMD Radeon RX 6500M</td>\n",
       "      <td>AMD</td>\n",
       "      <td>15.6</td>\n",
       "      <td>1920</td>\n",
       "      <td>1080</td>\n",
       "      <td>141.21</td>\n",
       "      <td>True</td>\n",
       "      <td>Windows 11 OS</td>\n",
       "    </tr>\n",
       "    <tr>\n",
       "      <th>1</th>\n",
       "      <td>Lenovo V15 G4 ‎82YU00W7IN Laptop (AMD Ryzen 3 ...</td>\n",
       "      <td>Lenovo</td>\n",
       "      <td>26690</td>\n",
       "      <td>AMD</td>\n",
       "      <td>AMD Ryzen 3</td>\n",
       "      <td>8</td>\n",
       "      <td>512</td>\n",
       "      <td>SSD</td>\n",
       "      <td>AMD Radeon Graphics</td>\n",
       "      <td>AMD</td>\n",
       "      <td>15.6</td>\n",
       "      <td>1920</td>\n",
       "      <td>1080</td>\n",
       "      <td>141.21</td>\n",
       "      <td>False</td>\n",
       "      <td>Windows 11 OS</td>\n",
       "    </tr>\n",
       "    <tr>\n",
       "      <th>2</th>\n",
       "      <td>HP 15s-fq5007TU Laptop (12th Gen Core i3/ 8GB/...</td>\n",
       "      <td>HP</td>\n",
       "      <td>37012</td>\n",
       "      <td>Intel</td>\n",
       "      <td>Intel Core i3</td>\n",
       "      <td>8</td>\n",
       "      <td>512</td>\n",
       "      <td>SSD</td>\n",
       "      <td>Intel UHD Graphics</td>\n",
       "      <td>Intel</td>\n",
       "      <td>15.6</td>\n",
       "      <td>1920</td>\n",
       "      <td>1080</td>\n",
       "      <td>141.21</td>\n",
       "      <td>False</td>\n",
       "      <td>Windows 11 OS</td>\n",
       "    </tr>\n",
       "    <tr>\n",
       "      <th>3</th>\n",
       "      <td>Samsung Galaxy Book2 Pro 13 Laptop (12th Gen C...</td>\n",
       "      <td>Samsung</td>\n",
       "      <td>69990</td>\n",
       "      <td>Intel</td>\n",
       "      <td>Intel Core i5</td>\n",
       "      <td>16</td>\n",
       "      <td>512</td>\n",
       "      <td>SSD</td>\n",
       "      <td>Intel Iris Xe Graphics</td>\n",
       "      <td>Intel</td>\n",
       "      <td>13.3</td>\n",
       "      <td>1080</td>\n",
       "      <td>1920</td>\n",
       "      <td>165.63</td>\n",
       "      <td>False</td>\n",
       "      <td>Windows 11 OS</td>\n",
       "    </tr>\n",
       "    <tr>\n",
       "      <th>4</th>\n",
       "      <td>Tecno Megabook T1 Laptop (11th Gen Core i3/ 8G...</td>\n",
       "      <td>Tecno</td>\n",
       "      <td>23990</td>\n",
       "      <td>Intel</td>\n",
       "      <td>Intel Core i3</td>\n",
       "      <td>8</td>\n",
       "      <td>512</td>\n",
       "      <td>SSD</td>\n",
       "      <td>Intel UHD Graphics</td>\n",
       "      <td>Intel</td>\n",
       "      <td>15.6</td>\n",
       "      <td>1920</td>\n",
       "      <td>1080</td>\n",
       "      <td>141.21</td>\n",
       "      <td>False</td>\n",
       "      <td>Windows 11 OS</td>\n",
       "    </tr>\n",
       "  </tbody>\n",
       "</table>\n",
       "</div>"
      ],
      "text/plain": [
       "                                                Name    Brand  Price  \\\n",
       "0  HP Victus 15-fb0157AX Gaming Laptop (AMD Ryzen...       HP  50399   \n",
       "1  Lenovo V15 G4 ‎82YU00W7IN Laptop (AMD Ryzen 3 ...   Lenovo  26690   \n",
       "2  HP 15s-fq5007TU Laptop (12th Gen Core i3/ 8GB/...       HP  37012   \n",
       "3  Samsung Galaxy Book2 Pro 13 Laptop (12th Gen C...  Samsung  69990   \n",
       "4  Tecno Megabook T1 Laptop (11th Gen Core i3/ 8G...    Tecno  23990   \n",
       "\n",
       "  Processor_brand Processor_name  RAM_GB  Storage_capacity_GB Storage_type  \\\n",
       "0             AMD    AMD Ryzen 5       8                  512          SSD   \n",
       "1             AMD    AMD Ryzen 3       8                  512          SSD   \n",
       "2           Intel  Intel Core i3       8                  512          SSD   \n",
       "3           Intel  Intel Core i5      16                  512          SSD   \n",
       "4           Intel  Intel Core i3       8                  512          SSD   \n",
       "\n",
       "            Graphics_name Graphics_brand  Display_size_inches  \\\n",
       "0     AMD Radeon RX 6500M            AMD                 15.6   \n",
       "1     AMD Radeon Graphics            AMD                 15.6   \n",
       "2      Intel UHD Graphics          Intel                 15.6   \n",
       "3  Intel Iris Xe Graphics          Intel                 13.3   \n",
       "4      Intel UHD Graphics          Intel                 15.6   \n",
       "\n",
       "   Horizontal_pixel  Vertical_pixel     ppi  Touch_screen Operating_system  \n",
       "0              1920            1080  141.21          True    Windows 11 OS  \n",
       "1              1920            1080  141.21         False    Windows 11 OS  \n",
       "2              1920            1080  141.21         False    Windows 11 OS  \n",
       "3              1080            1920  165.63         False    Windows 11 OS  \n",
       "4              1920            1080  141.21         False    Windows 11 OS  "
      ]
     },
     "execution_count": 44,
     "metadata": {},
     "output_type": "execute_result"
    }
   ],
   "source": [
    "df.head()"
   ]
  },
  {
   "cell_type": "code",
   "execution_count": 45,
   "id": "0f922fd5-cbab-4eef-8008-51883047d8e1",
   "metadata": {},
   "outputs": [],
   "source": [
    "df.drop(columns=['Storage_type'],axis=1,inplace=True)"
   ]
  },
  {
   "cell_type": "code",
   "execution_count": 46,
   "id": "f1b8ddec-2765-4039-8886-37d240c00fa3",
   "metadata": {},
   "outputs": [
    {
     "name": "stdout",
     "output_type": "stream",
     "text": [
      "<class 'pandas.core.frame.DataFrame'>\n",
      "RangeIndex: 987 entries, 0 to 986\n",
      "Data columns (total 15 columns):\n",
      " #   Column               Non-Null Count  Dtype  \n",
      "---  ------               --------------  -----  \n",
      " 0   Name                 987 non-null    object \n",
      " 1   Brand                987 non-null    object \n",
      " 2   Price                987 non-null    int64  \n",
      " 3   Processor_brand      987 non-null    object \n",
      " 4   Processor_name       987 non-null    object \n",
      " 5   RAM_GB               987 non-null    int64  \n",
      " 6   Storage_capacity_GB  987 non-null    int64  \n",
      " 7   Graphics_name        985 non-null    object \n",
      " 8   Graphics_brand       985 non-null    object \n",
      " 9   Display_size_inches  987 non-null    float64\n",
      " 10  Horizontal_pixel     987 non-null    int64  \n",
      " 11  Vertical_pixel       987 non-null    int64  \n",
      " 12  ppi                  987 non-null    float64\n",
      " 13  Touch_screen         987 non-null    bool   \n",
      " 14  Operating_system     987 non-null    object \n",
      "dtypes: bool(1), float64(2), int64(5), object(7)\n",
      "memory usage: 109.0+ KB\n"
     ]
    }
   ],
   "source": [
    "df.info()"
   ]
  },
  {
   "cell_type": "code",
   "execution_count": 47,
   "id": "8e7b06cf-ad13-4400-ae1f-fb98d14eff08",
   "metadata": {},
   "outputs": [],
   "source": [
    "df = df.dropna()"
   ]
  },
  {
   "cell_type": "code",
   "execution_count": 48,
   "id": "3e5b68ee-ecbe-4d71-8382-c53a48f3b2de",
   "metadata": {},
   "outputs": [],
   "source": [
    "df.reset_index(drop=True,inplace=True)"
   ]
  },
  {
   "cell_type": "code",
   "execution_count": 49,
   "id": "8d46b5be-e956-40ef-9d5c-330a2dca740d",
   "metadata": {},
   "outputs": [
    {
     "name": "stdout",
     "output_type": "stream",
     "text": [
      "<class 'pandas.core.frame.DataFrame'>\n",
      "RangeIndex: 985 entries, 0 to 984\n",
      "Data columns (total 15 columns):\n",
      " #   Column               Non-Null Count  Dtype  \n",
      "---  ------               --------------  -----  \n",
      " 0   Name                 985 non-null    object \n",
      " 1   Brand                985 non-null    object \n",
      " 2   Price                985 non-null    int64  \n",
      " 3   Processor_brand      985 non-null    object \n",
      " 4   Processor_name       985 non-null    object \n",
      " 5   RAM_GB               985 non-null    int64  \n",
      " 6   Storage_capacity_GB  985 non-null    int64  \n",
      " 7   Graphics_name        985 non-null    object \n",
      " 8   Graphics_brand       985 non-null    object \n",
      " 9   Display_size_inches  985 non-null    float64\n",
      " 10  Horizontal_pixel     985 non-null    int64  \n",
      " 11  Vertical_pixel       985 non-null    int64  \n",
      " 12  ppi                  985 non-null    float64\n",
      " 13  Touch_screen         985 non-null    bool   \n",
      " 14  Operating_system     985 non-null    object \n",
      "dtypes: bool(1), float64(2), int64(5), object(7)\n",
      "memory usage: 108.8+ KB\n"
     ]
    }
   ],
   "source": [
    "df.info()"
   ]
  },
  {
   "cell_type": "code",
   "execution_count": 50,
   "id": "948d38b2-8f3f-4d14-a56a-071cf94fd8a3",
   "metadata": {},
   "outputs": [],
   "source": [
    "df.drop(columns=['Graphics_name'],axis=1,inplace=True)"
   ]
  },
  {
   "cell_type": "code",
   "execution_count": 51,
   "id": "8608e95b-e626-4a78-8fc4-7f9571845e40",
   "metadata": {},
   "outputs": [
    {
     "data": {
      "text/html": [
       "<div>\n",
       "<style scoped>\n",
       "    .dataframe tbody tr th:only-of-type {\n",
       "        vertical-align: middle;\n",
       "    }\n",
       "\n",
       "    .dataframe tbody tr th {\n",
       "        vertical-align: top;\n",
       "    }\n",
       "\n",
       "    .dataframe thead th {\n",
       "        text-align: right;\n",
       "    }\n",
       "</style>\n",
       "<table border=\"1\" class=\"dataframe\">\n",
       "  <thead>\n",
       "    <tr style=\"text-align: right;\">\n",
       "      <th></th>\n",
       "      <th>Name</th>\n",
       "      <th>Brand</th>\n",
       "      <th>Price</th>\n",
       "      <th>Processor_brand</th>\n",
       "      <th>Processor_name</th>\n",
       "      <th>RAM_GB</th>\n",
       "      <th>Storage_capacity_GB</th>\n",
       "      <th>Graphics_brand</th>\n",
       "      <th>Display_size_inches</th>\n",
       "      <th>Horizontal_pixel</th>\n",
       "      <th>Vertical_pixel</th>\n",
       "      <th>ppi</th>\n",
       "      <th>Touch_screen</th>\n",
       "      <th>Operating_system</th>\n",
       "    </tr>\n",
       "  </thead>\n",
       "  <tbody>\n",
       "    <tr>\n",
       "      <th>0</th>\n",
       "      <td>HP Victus 15-fb0157AX Gaming Laptop (AMD Ryzen...</td>\n",
       "      <td>HP</td>\n",
       "      <td>50399</td>\n",
       "      <td>AMD</td>\n",
       "      <td>AMD Ryzen 5</td>\n",
       "      <td>8</td>\n",
       "      <td>512</td>\n",
       "      <td>AMD</td>\n",
       "      <td>15.6</td>\n",
       "      <td>1920</td>\n",
       "      <td>1080</td>\n",
       "      <td>141.21</td>\n",
       "      <td>True</td>\n",
       "      <td>Windows 11 OS</td>\n",
       "    </tr>\n",
       "    <tr>\n",
       "      <th>1</th>\n",
       "      <td>Lenovo V15 G4 ‎82YU00W7IN Laptop (AMD Ryzen 3 ...</td>\n",
       "      <td>Lenovo</td>\n",
       "      <td>26690</td>\n",
       "      <td>AMD</td>\n",
       "      <td>AMD Ryzen 3</td>\n",
       "      <td>8</td>\n",
       "      <td>512</td>\n",
       "      <td>AMD</td>\n",
       "      <td>15.6</td>\n",
       "      <td>1920</td>\n",
       "      <td>1080</td>\n",
       "      <td>141.21</td>\n",
       "      <td>False</td>\n",
       "      <td>Windows 11 OS</td>\n",
       "    </tr>\n",
       "    <tr>\n",
       "      <th>2</th>\n",
       "      <td>HP 15s-fq5007TU Laptop (12th Gen Core i3/ 8GB/...</td>\n",
       "      <td>HP</td>\n",
       "      <td>37012</td>\n",
       "      <td>Intel</td>\n",
       "      <td>Intel Core i3</td>\n",
       "      <td>8</td>\n",
       "      <td>512</td>\n",
       "      <td>Intel</td>\n",
       "      <td>15.6</td>\n",
       "      <td>1920</td>\n",
       "      <td>1080</td>\n",
       "      <td>141.21</td>\n",
       "      <td>False</td>\n",
       "      <td>Windows 11 OS</td>\n",
       "    </tr>\n",
       "    <tr>\n",
       "      <th>3</th>\n",
       "      <td>Samsung Galaxy Book2 Pro 13 Laptop (12th Gen C...</td>\n",
       "      <td>Samsung</td>\n",
       "      <td>69990</td>\n",
       "      <td>Intel</td>\n",
       "      <td>Intel Core i5</td>\n",
       "      <td>16</td>\n",
       "      <td>512</td>\n",
       "      <td>Intel</td>\n",
       "      <td>13.3</td>\n",
       "      <td>1080</td>\n",
       "      <td>1920</td>\n",
       "      <td>165.63</td>\n",
       "      <td>False</td>\n",
       "      <td>Windows 11 OS</td>\n",
       "    </tr>\n",
       "    <tr>\n",
       "      <th>4</th>\n",
       "      <td>Tecno Megabook T1 Laptop (11th Gen Core i3/ 8G...</td>\n",
       "      <td>Tecno</td>\n",
       "      <td>23990</td>\n",
       "      <td>Intel</td>\n",
       "      <td>Intel Core i3</td>\n",
       "      <td>8</td>\n",
       "      <td>512</td>\n",
       "      <td>Intel</td>\n",
       "      <td>15.6</td>\n",
       "      <td>1920</td>\n",
       "      <td>1080</td>\n",
       "      <td>141.21</td>\n",
       "      <td>False</td>\n",
       "      <td>Windows 11 OS</td>\n",
       "    </tr>\n",
       "  </tbody>\n",
       "</table>\n",
       "</div>"
      ],
      "text/plain": [
       "                                                Name    Brand  Price  \\\n",
       "0  HP Victus 15-fb0157AX Gaming Laptop (AMD Ryzen...       HP  50399   \n",
       "1  Lenovo V15 G4 ‎82YU00W7IN Laptop (AMD Ryzen 3 ...   Lenovo  26690   \n",
       "2  HP 15s-fq5007TU Laptop (12th Gen Core i3/ 8GB/...       HP  37012   \n",
       "3  Samsung Galaxy Book2 Pro 13 Laptop (12th Gen C...  Samsung  69990   \n",
       "4  Tecno Megabook T1 Laptop (11th Gen Core i3/ 8G...    Tecno  23990   \n",
       "\n",
       "  Processor_brand Processor_name  RAM_GB  Storage_capacity_GB Graphics_brand  \\\n",
       "0             AMD    AMD Ryzen 5       8                  512            AMD   \n",
       "1             AMD    AMD Ryzen 3       8                  512            AMD   \n",
       "2           Intel  Intel Core i3       8                  512          Intel   \n",
       "3           Intel  Intel Core i5      16                  512          Intel   \n",
       "4           Intel  Intel Core i3       8                  512          Intel   \n",
       "\n",
       "   Display_size_inches  Horizontal_pixel  Vertical_pixel     ppi  \\\n",
       "0                 15.6              1920            1080  141.21   \n",
       "1                 15.6              1920            1080  141.21   \n",
       "2                 15.6              1920            1080  141.21   \n",
       "3                 13.3              1080            1920  165.63   \n",
       "4                 15.6              1920            1080  141.21   \n",
       "\n",
       "   Touch_screen Operating_system  \n",
       "0          True    Windows 11 OS  \n",
       "1         False    Windows 11 OS  \n",
       "2         False    Windows 11 OS  \n",
       "3         False    Windows 11 OS  \n",
       "4         False    Windows 11 OS  "
      ]
     },
     "execution_count": 51,
     "metadata": {},
     "output_type": "execute_result"
    }
   ],
   "source": [
    "df.head()"
   ]
  },
  {
   "cell_type": "code",
   "execution_count": 52,
   "id": "85475cc7-79b6-487b-a02a-85a1ec2f72c1",
   "metadata": {},
   "outputs": [
    {
     "data": {
      "text/plain": [
       "<Axes: xlabel='Graphics_brand'>"
      ]
     },
     "execution_count": 52,
     "metadata": {},
     "output_type": "execute_result"
    },
    {
     "data": {
      "image/png": "[encoded data removed]",
      "text/plain": [
       "<Figure size 640x480 with 1 Axes>"
      ]
     },
     "metadata": {},
     "output_type": "display_data"
    }
   ],
   "source": [
    "df['Graphics_brand'].value_counts().plot(kind='bar')"
   ]
  },
  {
   "cell_type": "code",
   "execution_count": 53,
   "id": "703ed37e-e62c-4aa2-934b-9188219d7271",
   "metadata": {},
   "outputs": [
    {
     "data": {
      "text/plain": [
       "<Axes: xlabel='Graphics_brand', ylabel='Price'>"
      ]
     },
     "execution_count": 53,
     "metadata": {},
     "output_type": "execute_result"
    },
    {
     "data": {
      "image/png": "[encoded data removed]",
      "text/plain": [
       "<Figure size 640x480 with 1 Axes>"
      ]
     },
     "metadata": {},
     "output_type": "display_data"
    }
   ],
   "source": [
    "sns.barplot(x=df['Graphics_brand'], y=df['Price'])"
   ]
  },
  {
   "cell_type": "code",
   "execution_count": 54,
   "id": "58739b78-e741-4bc5-9b19-e354c0d19312",
   "metadata": {},
   "outputs": [
    {
     "data": {
      "image/png": "[encoded data removed]",
      "text/plain": [
       "<Figure size 640x480 with 1 Axes>"
      ]
     },
     "metadata": {},
     "output_type": "display_data"
    }
   ],
   "source": [
    "sns.scatterplot(x=df['Display_size_inches'], y=df['Price'])\n",
    "plt.xticks(rotation='vertical')\n",
    "plt.show()"
   ]
  },
  {
   "cell_type": "code",
   "execution_count": 55,
   "id": "31c4bc88-330f-4a2a-a22a-25e87d50a7b0",
   "metadata": {},
   "outputs": [],
   "source": [
    "df.drop(columns=['Horizontal_pixel'],axis=1,inplace=True)"
   ]
  },
  {
   "cell_type": "code",
   "execution_count": 56,
   "id": "9804b579-1750-4268-bf96-197be85b6553",
   "metadata": {},
   "outputs": [],
   "source": [
    "df.drop(columns=['Vertical_pixel'],axis=1,inplace=True)"
   ]
  },
  {
   "cell_type": "code",
   "execution_count": 57,
   "id": "1a0b0e6c-6b3d-4213-925a-08b28654c74e",
   "metadata": {},
   "outputs": [
    {
     "name": "stdout",
     "output_type": "stream",
     "text": [
      "<class 'pandas.core.frame.DataFrame'>\n",
      "RangeIndex: 985 entries, 0 to 984\n",
      "Data columns (total 12 columns):\n",
      " #   Column               Non-Null Count  Dtype  \n",
      "---  ------               --------------  -----  \n",
      " 0   Name                 985 non-null    object \n",
      " 1   Brand                985 non-null    object \n",
      " 2   Price                985 non-null    int64  \n",
      " 3   Processor_brand      985 non-null    object \n",
      " 4   Processor_name       985 non-null    object \n",
      " 5   RAM_GB               985 non-null    int64  \n",
      " 6   Storage_capacity_GB  985 non-null    int64  \n",
      " 7   Graphics_brand       985 non-null    object \n",
      " 8   Display_size_inches  985 non-null    float64\n",
      " 9   ppi                  985 non-null    float64\n",
      " 10  Touch_screen         985 non-null    bool   \n",
      " 11  Operating_system     985 non-null    object \n",
      "dtypes: bool(1), float64(2), int64(3), object(6)\n",
      "memory usage: 85.7+ KB\n"
     ]
    }
   ],
   "source": [
    "df.info()"
   ]
  },
  {
   "cell_type": "code",
   "execution_count": 58,
   "id": "e0b3fe25-b95e-407e-87d5-f08438fb51a5",
   "metadata": {},
   "outputs": [
    {
     "data": {
      "text/plain": [
       "Touch_screen\n",
       "False    874\n",
       "True     111\n",
       "Name: count, dtype: int64"
      ]
     },
     "execution_count": 58,
     "metadata": {},
     "output_type": "execute_result"
    }
   ],
   "source": [
    "df['Touch_screen'].value_counts()"
   ]
  },
  {
   "cell_type": "code",
   "execution_count": 59,
   "id": "f51d4bbd-bf91-475b-b344-ac6271fbdb19",
   "metadata": {},
   "outputs": [
    {
     "data": {
      "text/plain": [
       "<Axes: xlabel='Touch_screen', ylabel='Price'>"
      ]
     },
     "execution_count": 59,
     "metadata": {},
     "output_type": "execute_result"
    },
    {
     "data": {
      "image/png": "[encoded data removed]",
      "text/plain": [
       "<Figure size 640x480 with 1 Axes>"
      ]
     },
     "metadata": {},
     "output_type": "display_data"
    }
   ],
   "source": [
    "sns.barplot(x=df['Touch_screen'], y=df['Price'])"
   ]
  },
  {
   "cell_type": "code",
   "execution_count": 60,
   "id": "e13268d2-7407-4025-86f4-c6aaa56240bd",
   "metadata": {},
   "outputs": [],
   "source": [
    "df['Touch_screen'] = df['Touch_screen'].apply(lambda x: 1 if x==True else 0)"
   ]
  },
  {
   "cell_type": "code",
   "execution_count": 61,
   "id": "47cae249-08e2-4a3c-b4de-161a4a6147e9",
   "metadata": {},
   "outputs": [],
   "source": [
    "df['Touch_screen'] = df['Touch_screen'].astype('int32')"
   ]
  },
  {
   "cell_type": "code",
   "execution_count": 62,
   "id": "bc835121-4ec9-4353-9b32-44ffd84cb34d",
   "metadata": {},
   "outputs": [
    {
     "name": "stdout",
     "output_type": "stream",
     "text": [
      "<class 'pandas.core.frame.DataFrame'>\n",
      "RangeIndex: 985 entries, 0 to 984\n",
      "Data columns (total 12 columns):\n",
      " #   Column               Non-Null Count  Dtype  \n",
      "---  ------               --------------  -----  \n",
      " 0   Name                 985 non-null    object \n",
      " 1   Brand                985 non-null    object \n",
      " 2   Price                985 non-null    int64  \n",
      " 3   Processor_brand      985 non-null    object \n",
      " 4   Processor_name       985 non-null    object \n",
      " 5   RAM_GB               985 non-null    int64  \n",
      " 6   Storage_capacity_GB  985 non-null    int64  \n",
      " 7   Graphics_brand       985 non-null    object \n",
      " 8   Display_size_inches  985 non-null    float64\n",
      " 9   ppi                  985 non-null    float64\n",
      " 10  Touch_screen         985 non-null    int32  \n",
      " 11  Operating_system     985 non-null    object \n",
      "dtypes: float64(2), int32(1), int64(3), object(6)\n",
      "memory usage: 88.6+ KB\n"
     ]
    }
   ],
   "source": [
    "df.info()"
   ]
  },
  {
   "cell_type": "code",
   "execution_count": 63,
   "id": "f06d3d3a-9fec-4d58-b088-ffeb16f2a89f",
   "metadata": {},
   "outputs": [
    {
     "data": {
      "text/plain": [
       "Operating_system\n",
       "Windows 11 OS       924\n",
       "Mac OS               17\n",
       "DOS OS               16\n",
       "Windows 10 OS        16\n",
       "Chrome OS             6\n",
       "Ubuntu OS             3\n",
       "DOS 3.0 OS            1\n",
       "Mac 10.15.3\\t OS      1\n",
       "Mac Catalina OS       1\n",
       "Name: count, dtype: int64"
      ]
     },
     "execution_count": 63,
     "metadata": {},
     "output_type": "execute_result"
    }
   ],
   "source": [
    "df['Operating_system'].value_counts()"
   ]
  },
  {
   "cell_type": "code",
   "execution_count": 64,
   "id": "0919c148-a5de-438f-9115-d6bb50d7f5df",
   "metadata": {},
   "outputs": [
    {
     "name": "stderr",
     "output_type": "stream",
     "text": [
      "C:\\Users\\mdzai\\AppData\\Local\\Programs\\Python\\Python312\\Lib\\site-packages\\IPython\\core\\pylabtools.py:170: UserWarning: Glyph 9 (\t) missing from font(s) DejaVu Sans.\n",
      "  fig.canvas.print_figure(bytes_io, **kw)\n"
     ]
    },
    {
     "data": {
      "image/png": "[encoded data removed]",
      "text/plain": [
       "<Figure size 640x480 with 1 Axes>"
      ]
     },
     "metadata": {},
     "output_type": "display_data"
    }
   ],
   "source": [
    "sns.barplot(x=df['Operating_system'], y=df['Price'])\n",
    "plt.xticks(rotation='vertical')\n",
    "plt.show()"
   ]
  },
  {
   "cell_type": "code",
   "execution_count": 65,
   "id": "dfd329bd-1477-4b38-8424-831103348729",
   "metadata": {},
   "outputs": [
    {
     "data": {
      "text/plain": [
       "Operating_system\n",
       "Windows 11 OS       924\n",
       "Mac OS               17\n",
       "DOS OS               16\n",
       "Windows 10 OS        16\n",
       "Chrome OS             6\n",
       "Ubuntu OS             3\n",
       "DOS 3.0 OS            1\n",
       "Mac 10.15.3\\t OS      1\n",
       "Mac Catalina OS       1\n",
       "Name: count, dtype: int64"
      ]
     },
     "execution_count": 65,
     "metadata": {},
     "output_type": "execute_result"
    }
   ],
   "source": [
    "df['Operating_system'].value_counts()"
   ]
  },
  {
   "cell_type": "code",
   "execution_count": 66,
   "id": "00dae5c8-40a8-4502-88c7-011ca5176451",
   "metadata": {},
   "outputs": [],
   "source": [
    "def os(text):\n",
    "    if text == 'Windows 11 OS' or text == 'Windows 10 OS':\n",
    "        return 'Windows'\n",
    "    else:\n",
    "        if text == 'Mac OS' or text == 'Mac 10.15.3\\t OS' or text == 'Mac Catalina OS':\n",
    "            return 'Mac'\n",
    "        else:\n",
    "            if text == 'DOS OS':\n",
    "                return 'DOS'\n",
    "            else:\n",
    "                return 'Other'"
   ]
  },
  {
   "cell_type": "code",
   "execution_count": 67,
   "id": "7e4d3952-2f9d-43ac-9947-073005b02ee8",
   "metadata": {},
   "outputs": [],
   "source": [
    "df['Operating_system'] = df['Operating_system'].apply(os)"
   ]
  },
  {
   "cell_type": "code",
   "execution_count": 68,
   "id": "ab87d665-c4b8-4c3f-955a-96a675aa4906",
   "metadata": {},
   "outputs": [
    {
     "data": {
      "image/png": "[encoded data removed]",
      "text/plain": [
       "<Figure size 640x480 with 1 Axes>"
      ]
     },
     "metadata": {},
     "output_type": "display_data"
    }
   ],
   "source": [
    "sns.barplot(x=df['Operating_system'], y=df['Price'])\n",
    "plt.xticks(rotation='vertical')\n",
    "plt.show()"
   ]
  },
  {
   "cell_type": "code",
   "execution_count": 69,
   "id": "4be347a6-9481-479f-bd82-d7bd61157ecb",
   "metadata": {},
   "outputs": [],
   "source": [
    "df.drop(columns=['Name'],axis=1,inplace=True)"
   ]
  },
  {
   "cell_type": "code",
   "execution_count": 70,
   "id": "e941b883-2529-4b34-8c48-4fd3ab2f706e",
   "metadata": {},
   "outputs": [
    {
     "name": "stdout",
     "output_type": "stream",
     "text": [
      "<class 'pandas.core.frame.DataFrame'>\n",
      "RangeIndex: 985 entries, 0 to 984\n",
      "Data columns (total 11 columns):\n",
      " #   Column               Non-Null Count  Dtype  \n",
      "---  ------               --------------  -----  \n",
      " 0   Brand                985 non-null    object \n",
      " 1   Price                985 non-null    int64  \n",
      " 2   Processor_brand      985 non-null    object \n",
      " 3   Processor_name       985 non-null    object \n",
      " 4   RAM_GB               985 non-null    int64  \n",
      " 5   Storage_capacity_GB  985 non-null    int64  \n",
      " 6   Graphics_brand       985 non-null    object \n",
      " 7   Display_size_inches  985 non-null    float64\n",
      " 8   ppi                  985 non-null    float64\n",
      " 9   Touch_screen         985 non-null    int32  \n",
      " 10  Operating_system     985 non-null    object \n",
      "dtypes: float64(2), int32(1), int64(3), object(5)\n",
      "memory usage: 80.9+ KB\n"
     ]
    }
   ],
   "source": [
    "df.info()"
   ]
  },
  {
   "cell_type": "code",
   "execution_count": 71,
   "id": "bf68a110-a47b-4093-b99e-f91022d8e503",
   "metadata": {},
   "outputs": [
    {
     "data": {
      "text/plain": [
       "Price                  1.000000\n",
       "RAM_GB                 0.718473\n",
       "Storage_capacity_GB    0.637481\n",
       "Display_size_inches    0.148520\n",
       "ppi                    0.571518\n",
       "Touch_screen           0.242640\n",
       "Name: Price, dtype: float64"
      ]
     },
     "execution_count": 71,
     "metadata": {},
     "output_type": "execute_result"
    }
   ],
   "source": [
    "df.corr(numeric_only=True)['Price']"
   ]
  },
  {
   "cell_type": "code",
   "execution_count": 72,
   "id": "3cfb10c2-f614-4baa-b0eb-f263fcdb108d",
   "metadata": {},
   "outputs": [
    {
     "data": {
      "text/plain": [
       "<Axes: >"
      ]
     },
     "execution_count": 72,
     "metadata": {},
     "output_type": "execute_result"
    },
    {
     "data": {
      "image/png": "[encoded data removed]",
      "text/plain": [
       "<Figure size 640x480 with 2 Axes>"
      ]
     },
     "metadata": {},
     "output_type": "display_data"
    }
   ],
   "source": [
    "sns.heatmap(df.corr(numeric_only=True))"
   ]
  },
  {
   "cell_type": "code",
   "execution_count": 73,
   "id": "a5987e05-4911-49f4-8a44-995d62aac7ff",
   "metadata": {},
   "outputs": [],
   "source": [
    "x = df.drop(columns=['Price'])\n",
    "y = np.log(df['Price'])"
   ]
  },
  {
   "cell_type": "markdown",
   "id": "1d0004f0-5b53-4d41-a1f5-12c3c63410a0",
   "metadata": {},
   "source": [
    "# Train Test Split"
   ]
  },
  {
   "cell_type": "code",
   "execution_count": 74,
   "id": "5ded7916-3f56-41e6-9f17-df913a8bfe84",
   "metadata": {},
   "outputs": [
    {
     "data": {
      "text/plain": [
       "((886, 10), (99, 10))"
      ]
     },
     "execution_count": 74,
     "metadata": {},
     "output_type": "execute_result"
    }
   ],
   "source": [
    "from sklearn.model_selection import train_test_split\n",
    "\n",
    "X_train, X_test, y_train, y_test = train_test_split(x,y,\n",
    "                                                    test_size=0.10,\n",
    "                                                    random_state=849)\n",
    "X_train.shape, X_test.shape"
   ]
  },
  {
   "cell_type": "code",
   "execution_count": 2,
   "id": "11f7126f-7831-429c-8a8c-1498f575f6ce",
   "metadata": {},
   "outputs": [],
   "source": [
    "from sklearn.compose import ColumnTransformer\n",
    "from sklearn.pipeline import Pipeline\n",
    "from sklearn.metrics import r2_score,mean_absolute_error\n",
    "from sklearn.preprocessing import OneHotEncoder"
   ]
  },
  {
   "cell_type": "code",
   "execution_count": 1,
   "id": "cb82d82d-f5c7-48fc-a5dd-84bc88027887",
   "metadata": {},
   "outputs": [],
   "source": [
    "from xgboost import XGBRegressor"
   ]
  },
  {
   "cell_type": "markdown",
   "id": "a967ef2c-1eeb-4b9e-ac54-5086cf699102",
   "metadata": {},
   "source": [
    "# XGBRegressor"
   ]
  },
  {
   "cell_type": "code",
   "execution_count": 77,
   "id": "59e12532-d96a-4a7f-abb3-02e939919760",
   "metadata": {},
   "outputs": [
    {
     "name": "stdout",
     "output_type": "stream",
     "text": [
      "r2 score 0.9397008305265903\n",
      "MSE 0.1072744951908473\n"
     ]
    }
   ],
   "source": [
    "step1 = ColumnTransformer(transformers=[\n",
    "    ('trf1',OneHotEncoder(sparse_output=False,drop='first'),[0,1,2,5,9])\n",
    "],remainder='passthrough')\n",
    "\n",
    "step2 = XGBRegressor(n_estimators=218,max_depth=2,learning_rate=0.5)\n",
    "\n",
    "pipe = Pipeline([\n",
    "    ('step1',step1),\n",
    "    ('step2',step2)\n",
    "])\n",
    "\n",
    "pipe.fit(X_train, y_train)\n",
    "\n",
    "y_pred = pipe.predict(X_test)\n",
    "\n",
    "print(\"r2 score\",r2_score(y_test, y_pred))\n",
    "print(\"MSE\",mean_absolute_error(y_test, y_pred))"
   ]
  },
  {
   "cell_type": "markdown",
   "id": "729869b4-4c09-4482-b870-951a28bf044a",
   "metadata": {},
   "source": [
    "# Export Model"
   ]
  },
  {
   "cell_type": "code",
   "execution_count": 78,
   "id": "98e700e6-1cc4-4f70-badf-13c6736ce52b",
   "metadata": {},
   "outputs": [],
   "source": [
    "import pickle\n",
    "\n",
    "pickle.dump(df,open('df.pkl_n','wb'))\n",
    "pickle.dump(pipe,open('pipe.pkl_n','wb'))"
   ]
  },
  {
   "cell_type": "code",
   "execution_count": null,
   "id": "76f42316-cf51-4163-9024-26bf99e219c0",
   "metadata": {},
   "outputs": [],
   "source": []
  }
 ],
 "metadata": {
  "kernelspec": {
   "display_name": "Python 3 (ipykernel)",
   "language": "python",
   "name": "python3"
  },
  "language_info": {
   "codemirror_mode": {
    "name": "ipython",
    "version": 3
   },
   "file_extension": ".py",
   "mimetype": "text/x-python",
   "name": "python",
   "nbconvert_exporter": "python",
   "pygments_lexer": "ipython3",
   "version": "3.12.6"
  }
 },
 "nbformat": 4,
 "nbformat_minor": 5
}
